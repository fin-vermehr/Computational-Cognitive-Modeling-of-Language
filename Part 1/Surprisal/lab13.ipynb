{
 "cells": [
  {
   "cell_type": "markdown",
   "metadata": {
    "collapsed": true
   },
   "source": [
    "## COG403: Problem 3 of Problem Set 1: Surprisal\n",
    "\n",
    "### All 3 problems for Problem Set 1 Due 4 October 2018"
   ]
  },
  {
   "cell_type": "markdown",
   "metadata": {},
   "source": [
    "**Note**: To edit this notebook, click \"clone\", and it will prompt you to create your own copy of this library. Make sure to create a private library, so others can't see your answers. For more details, see the How-To Guide for Azure Notebooks posted on Quercus.\n"
   ]
  },
  {
   "cell_type": "code",
   "execution_count": 4,
   "metadata": {},
   "outputs": [
    {
     "name": "stdout",
     "output_type": "stream",
     "text": [
      "Requirement already satisfied: arpa in /anaconda3/lib/python3.6/site-packages (0.1.0b2)\n",
      "\u001b[33mYou are using pip version 10.0.1, however version 18.0 is available.\n",
      "You should consider upgrading via the 'pip install --upgrade pip' command.\u001b[0m\n",
      "P(there|hi) = 0.0025\n",
      "P(there|hi) = 0.0025\n",
      "log_p(there|hi) = -2.5984\n",
      "'hi' in demo_model.vocabulary() = 1.0000\n",
      "P(there|well hi) != 0.0025\n"
     ]
    }
   ],
   "source": [
    "# This installs a Python library called arpa, which is used for loading arpa format language files.\n",
    "# For more information, see: https://pypi.org/project/arpa/\n",
    "# Run this cell before running other cells in this notebook that use the arpa library.\n",
    "\n",
    "!pip install arpa\n",
    "import arpa\n",
    "\n",
    "# Here are some examples of how to use arpa:\n",
    "\n",
    "demo_model = arpa.loadf(\"data/bnc_10k_with_smoothing.arpa\")[0]\n",
    "\n",
    "# demo_model.p will give you the conditional probability of the last item given what came before\n",
    "print(\"P(there|hi) = {:.4f}\".format(demo_model.p([\"hi\", \"there\"])))\n",
    "\n",
    "# You can pass a list of terms or a string (arpa will automatically split on spaces).\n",
    "print(\"P(there|hi) = {:.4f}\".format(demo_model.p(\"hi there\")))\n",
    "\n",
    "# demo_model.log_p will give you log probabilities\n",
    "print(\"log_p(there|hi) = {:.4f}\".format(demo_model.log_p([\"hi\", \"there\"])))\n",
    "\n",
    "# demo_model.vocabulary() will return the vocabulary of the language model\n",
    "print(\"'hi' in demo_model.vocabulary() = {:.4f}\".format(\"hi\" in demo_model.vocabulary()))\n",
    "\n",
    "# For this problem set, the arpa models are bigram models. Arpa models will not raise an error\n",
    "# when passed trigrams, but the probabilities are not correct. It actually returns the bigram\n",
    "# probability of the last two tokens in the input.\n",
    "print(\"P(there|well hi) != {:.4f}\".format(demo_model.p([\"well\", \"hi\", \"there\"])))  # same output as demo_model.p([hi\", \"there\"])\n",
    "\n",
    "# Note that all input to the arpa model should be lowercase. The following will raise an error:\n",
    "# demo_model.p([\"Hi\"])"
   ]
  },
  {
   "cell_type": "markdown",
   "metadata": {},
   "source": [
    "## Part 1: Understanding Surprisal"
   ]
  },
  {
   "cell_type": "markdown",
   "metadata": {},
   "source": [
    "Smith and Levy$^1$ explored the shape of the relationship between a word’s predictability in context and how long, on average, a comprehender spends on reading that word. In particular they were interested in the hypothesis that a word’s average reading time might be linear in the surprisal of the word (Hale, 2001; Levy, 2008):\n",
    "\n",
    "$$\\textrm{surprisal}(w_i|\\textrm{Context}) = \\log\\frac{1}{P(w_i|\\textrm{Context})} \\quad\\quad (1)$$\n",
    "\n",
    "or in some other function of the word’s conditional probability. In this assignment, you will investigate this question yourself, using one of the datasets analyzed by Smith and Levy."
   ]
  },
  {
   "cell_type": "markdown",
   "metadata": {},
   "source": [
    "### (a)\n",
    "\n",
    "Write a function to compute the surprisal of a bigram using a bigram arpa model. In the case of out of vocabulary (OOV) items (words that don't occur in our training corpus), return None.\n",
    "\n",
    "Compute the surprisal of the word \"toast\" in the bigram \"like toast\" using the bigram arpa model trained on the British National Corpus (BNC)$^2$ with smoothing."
   ]
  },
  {
   "cell_type": "code",
   "execution_count": 86,
   "metadata": {},
   "outputs": [],
   "source": [
    "import arpa\n",
    "import numpy as np\n",
    "\n",
    "# model_with_smoothing = arpa.loadf(\"data/bnc_10k_with_smoothing.arpa\")[0]\n",
    "# vocab = set(model_with_smoothing.vocabulary())\n",
    "\n",
    "def compute_surprisal(arpa_model, bigram, vocab):\n",
    "    \"\"\"\n",
    "    Return the surprisal of the second word in bigram based on bigram probabilities. Return None when\n",
    "    one of the words in bigram is an OOV word.\n",
    "    \"\"\"\n",
    "    \n",
    "    for word in bigram:\n",
    "        if word not in vocab:\n",
    "            return None\n",
    "\n",
    "    cond_prob = arpa_model.p(bigram)\n",
    "    suprisal = np.log(1 / cond_prob)\n",
    "    \n",
    "    return suprisal\n",
    "\n",
    "# print(compute_surprisal(model_with_smoothing, ['like', 'toast'], vocab))"
   ]
  },
  {
   "cell_type": "markdown",
   "metadata": {},
   "source": [
    "### (b) \n",
    "\n",
    "Compute the surprisal of the word \"toast\" in the bigram \"like toast\" using a bigram model trained on the BNC without smoothing. Is the surprisal of word \"toast\" based on the smoothing higher or lower than that of the model without smoothing? Explain why you think this is.\n",
    "\n",
    "If it's lower, come up with an example that would have higher surprisal without smoothing than with smoothing. If it's higher, come up with an example of a bigram that would have a lower surprisal without smoothing than with smoothing.  Explain how you came up with that example.\n",
    "\n",
    "Hint: investigate the arpa file to see which bigrams occur in the corpus."
   ]
  },
  {
   "cell_type": "code",
   "execution_count": 90,
   "metadata": {
    "scrolled": true
   },
   "outputs": [
    {
     "name": "stdout",
     "output_type": "stream",
     "text": [
      "Without Smoothing:\n",
      "8.406484890161032\n",
      "With Smoothing:\n",
      "10.058847583914675\n"
     ]
    }
   ],
   "source": [
    "corpus_path = \"data/bnc_10k_no_smoothing.arpa\"\n",
    "\n",
    "model_without_smoothing = arpa.loadf(corpus_path)[0]\n",
    "model_with_smoothing = arpa.loadf(\"data/bnc_10k_with_smoothing.arpa\")[0]\n",
    "\n",
    "vocab_without_smoothing = set(model_without_smoothing.vocabulary())\n",
    "vocab_with_smoothing = set(model_with_smoothing.vocabulary())\n",
    "\n",
    "\n",
    "# # print(vocab)\n",
    "\n",
    "print(\"Without Smoothing:\")\n",
    "print(compute_surprisal(model_without_smoothing, ['and', 'toast'], vocab_without_smoothing))\n",
    "print(\"With Smoothing:\")\n",
    "print(compute_surprisal(model_with_smoothing, ['and', 'toast'], vocab_with_smoothing))\n"
   ]
  },
  {
   "cell_type": "markdown",
   "metadata": {},
   "source": [
    "## Part 2: Surprisal and Reading Times"
   ]
  },
  {
   "cell_type": "markdown",
   "metadata": {},
   "source": [
    "### (c)\n",
    "\n",
    "Write a function to load in the Brown Corpus$^3$ annotated with reading times.\n",
    "\n",
    "In `data/brown_reading_times.csv`, you can access the Smith and Levy$^1$ self-paced reading dataset. This dataset derives from each subject in the experiment reading a number of several-hundred-word passages selected from the\n",
    "Brown corpus. This dataset is presented in tabular format, with one reading-time measurement per row and with the following columns:\n",
    "\n",
    " * The **word** that was read;\n",
    " * A **code** that uniquely identifies the word/context pair;\n",
    " * The identifier for the **subject** in the experiment from which the reading-time measurement was taken;\n",
    " * **text_id**, which is the identifier for the text from the Brown corpus that was being read;\n",
    " * **text_pos**, which is the word number in the text selection that was being read;\n",
    " * **word_in_exp** is the word number in the experiment for the particular subject;\n",
    " * The **time** in milliseconds that the word in question was visible on-screen during the subject’s reading. (Remember, in self-paced reading this is the time elapsed between the subject pressing a button/key to reveal the word, and the subject pressing the button/key again to mask that word and reveal the next word.)\n",
    "\n",
    "Take a look at the function `get_sentences_and_reading_times` in `provided_functions.py`. Run this function on `data/brown_reading_times.csv`.\n",
    "\n",
    "Write a function `get_reading_times_and_bigrams` to generate a list of bigrams and reading times for the second word in the bigram. Run it on the sentences and reading times returned by `get_sentences_and_reading_times`. Use the BNC at `data/bnc_10k.txt` as your train corpus (this is used to compute bigram counts for thresholding as described in the docstring for `get_reading_times_and_bigrams` below).\n",
    "\n",
    "Print the first 10 bigrams you generate as well as their associated reading times."
   ]
  },
  {
   "cell_type": "code",
   "execution_count": 184,
   "metadata": {},
   "outputs": [
    {
     "name": "stdout",
     "output_type": "stream",
     "text": [
      "[('<s>', 'buffeted'), ('by', 'swirling'), ('swirling', 'winds'), ('winds', 'the'), ('the', 'little'), ('little', 'green'), ('green', 'biplane'), ('biplane', 'struggled'), ('struggled', 'northward'), ('northward', 'between')]\n",
      "[723.76, 405.26, 367.21, 379.89, 339.24, 418.62, 351.24, 326.62, 771.31, 471.44]\n"
     ]
    },
    {
     "data": {
      "text/plain": [
       "([('as', 'a'),\n",
       "  ('to', 'the'),\n",
       "  ('in', 'the'),\n",
       "  ('<s>', 'he'),\n",
       "  ('as', 'the'),\n",
       "  ('<s>', 'a'),\n",
       "  ('<s>', 'the'),\n",
       "  ('of', 'a'),\n",
       "  ('<s>', 'and'),\n",
       "  ('on', 'the'),\n",
       "  ('of', 'the'),\n",
       "  ('for', 'the'),\n",
       "  ('and', 'the'),\n",
       "  ('<s>', 'but'),\n",
       "  ('with', 'the'),\n",
       "  ('<s>', 'they'),\n",
       "  ('<s>', 'it'),\n",
       "  ('at', 'the'),\n",
       "  ('one', 'of'),\n",
       "  ('with', 'a'),\n",
       "  ('in', 'a'),\n",
       "  ('number', 'of'),\n",
       "  ('<s>', 'she'),\n",
       "  ('for', 'a'),\n",
       "  ('to', 'have'),\n",
       "  ('<s>', 'what'),\n",
       "  ('<s>', 'for'),\n",
       "  ('on', 'a'),\n",
       "  ('<s>', 'this'),\n",
       "  ('will', 'be'),\n",
       "  ('<s>', 'in'),\n",
       "  ('to', 'be'),\n",
       "  ('the', 'same'),\n",
       "  ('all', 'the'),\n",
       "  ('into', 'the'),\n",
       "  ('<s>', 'as'),\n",
       "  ('<s>', 'there'),\n",
       "  ('<s>', 'we'),\n",
       "  ('<s>', 'you'),\n",
       "  ('by', 'the'),\n",
       "  ('from', 'the'),\n",
       "  ('to', 'a'),\n",
       "  ('and', 'a'),\n",
       "  ('be', 'in'),\n",
       "  ('it', '<\\\\s>'),\n",
       "  ('have', 'a'),\n",
       "  ('<s>', 'that'),\n",
       "  ('be', 'the'),\n",
       "  ('<s>', 'so'),\n",
       "  ('may', 'be'),\n",
       "  ('that', 'the'),\n",
       "  ('go', 'to'),\n",
       "  ('<s>', 'i'),\n",
       "  ('have', 'to'),\n",
       "  ('<s>', 'if'),\n",
       "  ('would', 'be'),\n",
       "  ('<s>', 'no'),\n",
       "  ('be', 'a'),\n",
       "  ('<s>', 'oh')],\n",
       " [506.53,\n",
       "  517.78,\n",
       "  340.05,\n",
       "  243.19,\n",
       "  322.56,\n",
       "  485.66,\n",
       "  245.44,\n",
       "  278.26,\n",
       "  329.12,\n",
       "  405.28,\n",
       "  305.16,\n",
       "  352.42,\n",
       "  230.53,\n",
       "  258.87,\n",
       "  234.37,\n",
       "  416.19,\n",
       "  382.8,\n",
       "  191.93,\n",
       "  284.69,\n",
       "  226.01,\n",
       "  416.11,\n",
       "  226.96,\n",
       "  336.42,\n",
       "  260.12,\n",
       "  424.84,\n",
       "  320.82,\n",
       "  156.05,\n",
       "  316.65,\n",
       "  237.41,\n",
       "  413.56,\n",
       "  261.42,\n",
       "  356.97,\n",
       "  450.88,\n",
       "  152.31,\n",
       "  284.48,\n",
       "  228.4,\n",
       "  132.15,\n",
       "  340.04,\n",
       "  284.05,\n",
       "  136.88,\n",
       "  157.29,\n",
       "  328.62,\n",
       "  181.9,\n",
       "  394.57,\n",
       "  152.06,\n",
       "  205.02,\n",
       "  296.99,\n",
       "  180.07,\n",
       "  266.68,\n",
       "  258.7,\n",
       "  237.12,\n",
       "  318.44,\n",
       "  123.35,\n",
       "  346.93,\n",
       "  287.9,\n",
       "  319.97,\n",
       "  248.58,\n",
       "  221.02,\n",
       "  276.44])"
      ]
     },
     "execution_count": 184,
     "metadata": {},
     "output_type": "execute_result"
    }
   ],
   "source": [
    "from provided_functions import read_sentences_and_reading_times\n",
    "import random \n",
    "data = read_sentences_and_reading_times('data/brown_reading_times.csv')\n",
    "\n",
    "sentences = data[0]\n",
    "reading_times = data[1]\n",
    "train_corpus = open('data/bnc_10k.txt', 'r')\n",
    "\n",
    "#Note: I am not sure what format you want the train_corpus in. I tried us\n",
    "\n",
    "def get_reading_times_and_bigrams(\n",
    "        sentences, reading_times, train_corpus, bigram_threshold=75, max_bigrams=500):\n",
    "    \"\"\"\n",
    "    sentences: list of list of str -- each list is a sentence, and each str is a word\n",
    "    reading_times: list of list of float -- each list is a sentence, and each str is the reading\n",
    "        time for a word\n",
    "    train_corpus: the corpus to use to determine bigram counts for putting a threshold on bigrams\n",
    "    bigram_threshold: the minimum number of times a bigram must occur in train_corpus in order\n",
    "        to be included in the result.\n",
    "    max_bigrams: int -- the maximum number of bigrams and reading times to return\n",
    "    \n",
    "    Return two lists, one containing bigrams, and one containing reading times associated with\n",
    "    the second word in the bigram. Make sure to:\n",
    "        1. Include each bigram only once. For example, even if the bigram (\"i\", \"like\")\n",
    "           occurs 500 times in train_corpus with different reading times, it should only occur\n",
    "           once in the bigram list in the result. Randomly select which reading time to use.\n",
    "        2. Return max_bigrams bigrams or fewer. If there are more than max_bigrams in the sentences,\n",
    "           return 500 randomly selected bigrams.\n",
    "        3. Skip bigrams that occur in train_corpus fewer than bigram_threshold times.\n",
    "        4. Pad sentences with beginning of sentence and end of sentence tokens (\"<s>\" and \"<\\s>\").\n",
    "            For example in the sentence [\"i\", \"like\", toast\"], you should consider the bigrams (\"<s>\", \"i\")\n",
    "            and (\"toast\", \"<\\s>\") in addition to (\"i\", \"like\") and (\"like\", \"toast\").\n",
    "    \"\"\"    \n",
    "    bigram_dict = dict()\n",
    "    \n",
    "    first_ten_bigrams = []\n",
    "    first_ten_times = []\n",
    "    \n",
    "    for index in range(len(sentences)):\n",
    "        reading_time = reading_times[index]\n",
    "        sentence = sentences[index]\n",
    "        \n",
    "        for word_index in range(len(sentence)):\n",
    "            if word_index == 0:\n",
    "                bigram = ('<s>', sentence[word_index])\n",
    "            elif word_index == len(sentence) - 1:\n",
    "                bigram = (sentence[word_index], '<\\s>')\n",
    "            else:\n",
    "                bigram = (sentence[word_index], sentence[word_index + 1])\n",
    "            \n",
    "            if bigram not in bigram_dict:\n",
    "                bigram_dict[bigram] = [[reading_time[word_index]], 0]\n",
    "            else:\n",
    "                bigram_dict[bigram][0].append(reading_time[word_index])\n",
    "                \n",
    "            if len(first_ten_bigrams) < 10:\n",
    "                first_ten_bigrams.append(bigram)\n",
    "                first_ten_times.append(reading_time[word_index])\n",
    "                \n",
    "\n",
    "    # Note: it was not stated what format we want the train_corpus in. Hope this works!\n",
    "     \n",
    "    lines = list(train_corpus)\n",
    "\n",
    "    for line in lines:\n",
    "        line = line.split(' ')[:-1]\n",
    "        for word_index in range(len(line)):\n",
    "            if word_index == 0:\n",
    "                bigram = ('<s>', line[word_index])\n",
    "            elif word_index == len(line) - 1:\n",
    "                bigram = (line[word_index], '<\\s>')\n",
    "            else:\n",
    "                bigram = (line[word_index], line[word_index + 1])\n",
    "\n",
    "            if bigram in bigram_dict:\n",
    "                bigram_dict[bigram][1] += 1\n",
    "\n",
    "    bigram_list = []\n",
    "    reading_time_list = []\n",
    "    \n",
    "    for bigram in bigram_dict:\n",
    "        if (bigram_dict[bigram][1] >= bigram_threshold):\n",
    "            \n",
    "            bigram_list.append(bigram)\n",
    "            random_index = random.randint(0, len(bigram_dict[bigram][0]) - 1)\n",
    "            reading_time_list.append(bigram_dict[bigram][0][random_index])\n",
    "    \n",
    "    print(first_ten_bigrams)\n",
    "    print(first_ten_times)\n",
    "    \n",
    "    final_bigram_list = []\n",
    "    final_reading_list = []\n",
    "    \n",
    "    if len(bigram_list) > max_bigrams:\n",
    "        for i in range(max_bigrams):\n",
    "            random_index = random.randint(0, len(bigram_list) - 1)\n",
    "            final_bigram_list.append(bigram_list[random_index])\n",
    "            final_reading_list.append(reading_time_list[random_index])\n",
    "    \n",
    "            del bigram_list[random_index]\n",
    "            del reading_time_list[random_index]\n",
    "\n",
    "        return final_bigram_list, final_reading_list\n",
    "    return bigram_list, reading_time_list    \n",
    "\n",
    "get_reading_times_and_bigrams(sentences, reading_times, train_corpus)"
   ]
  },
  {
   "cell_type": "markdown",
   "metadata": {},
   "source": [
    "### (d)\n",
    "\n",
    "Use the BNC with smoothing arpa model, and the `compute_surprisal` function defined in part a to compute the surprisal of each bigram returned by `get_reading_times_and_bigrams` in part c.\n",
    "\n",
    "Use `matplotlib` to generate a scatter plot of surprisal vs. reading time for bigrams in the Brown Corpus.\n",
    "\n",
    "Use `scipy.stats.pearsonr` to compute the linear correlation between surprisal and reading time and print the results.\n",
    "\n",
    "Based on your results, what is the relationship between surprisal and reading time? Explain why you think this is."
   ]
  },
  {
   "cell_type": "code",
   "execution_count": 185,
   "metadata": {},
   "outputs": [
    {
     "name": "stdout",
     "output_type": "stream",
     "text": [
      "[('<s>', 'buffeted'), ('by', 'swirling'), ('swirling', 'winds'), ('winds', 'the'), ('the', 'little'), ('little', 'green'), ('green', 'biplane'), ('biplane', 'struggled'), ('struggled', 'northward'), ('northward', 'between')]\n",
      "[723.76, 405.26, 367.21, 379.89, 339.24, 418.62, 351.24, 326.62, 771.31, 471.44]\n"
     ]
    },
    {
     "data": {
      "image/png": "[encoded data removed]",
      "text/plain": [
       "<matplotlib.figure.Figure at 0x111845710>"
      ]
     },
     "metadata": {},
     "output_type": "display_data"
    },
    {
     "name": "stdout",
     "output_type": "stream",
     "text": [
      "(-0.0230990047324023, 0.8633508967043587)\n"
     ]
    }
   ],
   "source": [
    "import matplotlib.pyplot as plt\n",
    "import scipy\n",
    "from scipy import stats\n",
    "\n",
    "data = read_sentences_and_reading_times('data/brown_reading_times.csv')\n",
    "\n",
    "sentences = data[0]\n",
    "reading_times = data[1]\n",
    "\n",
    "train_corpus = open('data/bnc_10k.txt', 'r')\n",
    "\n",
    "model_with_smoothing = arpa.loadf(\"data/bnc_10k_with_smoothing.arpa\")[0]\n",
    "vocab = set(model_with_smoothing.vocabulary())\n",
    "\n",
    "\n",
    "times_bigrams = get_reading_times_and_bigrams(sentences, reading_times, train_corpus)\n",
    "\n",
    "bigrams = times_bigrams[0]\n",
    "reading_times = times_bigrams[1]\n",
    "\n",
    "surprisal_list = []\n",
    "reading_list = []\n",
    "\n",
    "for index in range(len(bigrams)):\n",
    "    bigram = list(bigrams[index])\n",
    "    surprisal = compute_surprisal(model_with_smoothing, bigram, vocab)\n",
    "\n",
    "    if surprisal is not None:\n",
    "        reading_list.append(reading_times[index])\n",
    "        surprisal_list.append(surprisal)\n",
    "\n",
    "plt.scatter(surprisal_list, reading_list)\n",
    "plt.show()\n",
    "print(scipy.stats.pearsonr(surprisal_list, reading_list))"
   ]
  },
  {
   "cell_type": "markdown",
   "metadata": {},
   "source": [
    "#### Question (d) Response:\n",
    "My calculated correlation coefficient between surprisal and reading time was -0.0972, so there is very little negative correlation between the two, and the p value is very high (0.94), thus we are not very confident in our results. In the end, there's not much we can say about the correlation, it seems pretty uncorrelated.\n"
   ]
  },
  {
   "cell_type": "markdown",
   "metadata": {},
   "source": [
    "### (e)\n",
    "\n",
    "Using the same bigrams returned by `get_reading_times_and_bigrams` from part c, compute surprisal based on the BNC model **without** smoothing.\n",
    "\n",
    "Generate a scatter plot and compute the linear correlation for the results without smoothing, as you did in part d. Do your results differ from the results in part d? If so, explain why, and if not, explain why not."
   ]
  },
  {
   "cell_type": "code",
   "execution_count": 186,
   "metadata": {},
   "outputs": [
    {
     "name": "stdout",
     "output_type": "stream",
     "text": [
      "[('<s>', 'buffeted'), ('by', 'swirling'), ('swirling', 'winds'), ('winds', 'the'), ('the', 'little'), ('little', 'green'), ('green', 'biplane'), ('biplane', 'struggled'), ('struggled', 'northward'), ('northward', 'between')]\n",
      "[723.76, 405.26, 367.21, 379.89, 339.24, 418.62, 351.24, 326.62, 771.31, 471.44]\n"
     ]
    },
    {
     "data": {
      "image/png": "[encoded data removed]",
      "text/plain": [
       "<matplotlib.figure.Figure at 0x1a2eb98d30>"
      ]
     },
     "metadata": {},
     "output_type": "display_data"
    },
    {
     "name": "stdout",
     "output_type": "stream",
     "text": [
      "(0.24713785911988703, 0.06144207143527606)\n"
     ]
    }
   ],
   "source": [
    "import matplotlib.pyplot as plt\n",
    "import scipy\n",
    "from scipy import stats\n",
    "\n",
    "data = read_sentences_and_reading_times('data/brown_reading_times.csv')\n",
    "\n",
    "sentences = data[0]\n",
    "reading_times = data[1]\n",
    "\n",
    "train_corpus = open('data/bnc_10k.txt', 'r')\n",
    "\n",
    "model_without_smoothing = arpa.loadf(\"data/bnc_10k_no_smoothing.arpa\")[0]\n",
    "vocab = set(model_without_smoothing.vocabulary())\n",
    "\n",
    "\n",
    "times_bigrams = get_reading_times_and_bigrams(sentences, reading_times, train_corpus)\n",
    "\n",
    "bigrams = times_bigrams[0]\n",
    "reading_times = times_bigrams[1]\n",
    "\n",
    "surprisal_list = []\n",
    "reading_list = []\n",
    "\n",
    "for index in range(len(bigrams)):\n",
    "    bigram = list(bigrams[index])\n",
    "    surprisal = compute_surprisal(model_without_smoothing, bigram, vocab)\n",
    "\n",
    "    if surprisal is not None:\n",
    "        reading_list.append(reading_times[index])\n",
    "        surprisal_list.append(surprisal)\n",
    "\n",
    "plt.scatter(surprisal_list, reading_list)\n",
    "plt.show()\n",
    "print(scipy.stats.pearsonr(surprisal_list, reading_list))"
   ]
  },
  {
   "cell_type": "markdown",
   "metadata": {},
   "source": [
    "The linear correlation for the two results without smoothing was 0.07 with an even higher p value (0.598), thus we are even less confident about this result than with the smoothed dataset. That being said, it is not actually significaintly different. This is because of the bigram_threshold, which is set to 75, it ensures that only common bigrams are used for surprisal calculations. These common bigrams are all in the unsmoothed data. When we reduce bigram_threshold to 0, our data has two seperate columns, is very different from the smoothed data and has a correlation of 0.02."
   ]
  },
  {
   "cell_type": "markdown",
   "metadata": {},
   "source": [
    "## Part 3: Surprisal and Concreteness\n",
    "\n",
    "Given the experiments we've done so far, we don't really know if surprisal is connected to semantics. One prominent element of semantics that cognitive scientists have found plays a role in word processing is concreteness. In the next part of the problem, we'll look at the relationship between surprisal and concreteness. To do this, we'll use the Calgary Concreteness data set$^4$, which has several English nouns and their concreteness ratings on a scale from 1 to 5. This dataset is in `data/calgary_concreteness.csv`.  We provide the functions that read in info from this dataset in `provided_functions.py`. Using this data, we can compare the average surprisal of words that are relatively high in concreteness to those that are relatively low in concreteness, to see how concreteness affects reading times.\n"
   ]
  },
  {
   "cell_type": "markdown",
   "metadata": {},
   "source": [
    "### (f)\n",
    "\n",
    "Write a function `compute_average_word_surprisal`, which computes the average surprisal for a given word based on `max_bigrams` randomly selected contexts that that word occurs in in the BNC corpus.\n",
    "\n",
    "Use the function `compute_average_word_surprisal` to find the average surprisal for the word *cat*."
   ]
  },
  {
   "cell_type": "code",
   "execution_count": 171,
   "metadata": {},
   "outputs": [
    {
     "data": {
      "text/plain": [
       "6.5901537961723715"
      ]
     },
     "execution_count": 171,
     "metadata": {},
     "output_type": "execute_result"
    }
   ],
   "source": [
    "from provided_functions import get_bigram_counts\n",
    "from tqdm import tqdm\n",
    "import numpy as np\n",
    "\n",
    "def compute_average_word_surprisal(word, bigram_counter, model, max_bigrams=10):\n",
    "    \"\"\"\n",
    "    word: string -- the word to compute average surprisal for\n",
    "    bigram_counter: collections.Counter -- a Counter mapping bigram tuples to frequency in a corpus.\n",
    "                    This can be comptued using the function get_bigram_counts in provided_functions.py\n",
    "    model: arpa model -- an arpa model\n",
    "    max_bigrams: int -- number of sampled bigrams used to compute the average surprisal of word\n",
    "    \n",
    "    Return the average surprisal of a bigram containing word in index 1. For example,\n",
    "    for the word 'cat', we would consider ('my', 'cat') but not ('cat', 'went'). In cases where there\n",
    "    are more than max_bigrams in bigram_counter that contain word in index 0, compute average surprisal\n",
    "    based on max_bigrams randomly selected bigrams.\n",
    "    \"\"\"\n",
    "    surprisal_list = []\n",
    "    vocab = set(model.vocabulary())\n",
    "    \n",
    "    for bigram in bigram_counter:\n",
    "        if bigram[1] == word:\n",
    "            surprisal_list.append(compute_surprisal(model, bigram, vocab))\n",
    "\n",
    "    if len(surprisal_list) <= max_bigrams:\n",
    "        return np.mean(surprisal_list)\n",
    "\n",
    "    else:\n",
    "        final_surprisal_list = []\n",
    "        for i in range(max_bigrams):\n",
    "            random_index = random.randint(0, len(surprisal_list) - 1)\n",
    "            final_surprisal_list.append(surprisal_list[random_index])\n",
    "            del surprisal_list[random_index]\n",
    "            \n",
    "        return np.mean(final_surprisal_list)\n",
    "        \n",
    "bigram_counts = get_bigram_counts('data/bnc_10k.txt')\n",
    "model_with_smoothing = arpa.loadf(\"data/bnc_10k_with_smoothing.arpa\")[0]\n",
    "compute_average_word_surprisal('cat', bigram_counts, model_with_smoothing)"
   ]
  },
  {
   "cell_type": "markdown",
   "metadata": {},
   "source": [
    "### (g)\n",
    "\n",
    "Take a look at the files `data/low_concreteness_nouns.txt` and `data/high_concreteness_nouns.txt`. These files each contain a subset of 100 nouns from the Calgary Concreteness data set with low concreteness (< 2.5), high concreteness (> 3.5) respectively. They are the most common nouns of each type based on frequency in the BNC sample.\n",
    "\n",
    "Use `matplotlib` to generate a scatter plot of surprisal vs. concreteness for the low concreteness nouns in `data/low_concreteness_nouns.txt`. You should use `compute_average_word_surprisal` from part f as well as the functions `load_words`, `get_bigram_counts`, and `read_concreteness` defined in `provided_functions.py`.\n"
   ]
  },
  {
   "cell_type": "code",
   "execution_count": 134,
   "metadata": {},
   "outputs": [
    {
     "data": {
      "image/png": "[encoded data removed]",
      "text/plain": [
       "<matplotlib.figure.Figure at 0x1a3012b438>"
      ]
     },
     "metadata": {},
     "output_type": "display_data"
    },
    {
     "name": "stdout",
     "output_type": "stream",
     "text": [
      "(0.058374956563435436, 0.5640052006199161)\n"
     ]
    }
   ],
   "source": [
    "from provided_functions import load_words, read_concreteness\n",
    "from pprint import pprint\n",
    "import matplotlib.pyplot as plt\n",
    "import scipy\n",
    "from scipy import stats\n",
    "\n",
    "bigram_counts = get_bigram_counts('data/bnc_10k.txt')\n",
    "model_with_smoothing = arpa.loadf(\"data/bnc_10k_with_smoothing.arpa\")[0]\n",
    "\n",
    "\n",
    "words = load_words('data/low_concreteness_nouns.txt')\n",
    "concreteness = read_concreteness('data/calgary_concreteness.csv')\n",
    "\n",
    "surprisal_averages = []\n",
    "concreteness_list = []\n",
    "\n",
    "for index in range(len(words)):\n",
    "    surprisal_averages.append(compute_average_word_surprisal(words[index], bigram_counts, model_with_smoothing))\n",
    "    word_index = concreteness[1].index(words[index])\n",
    "    concreteness_list.append(concreteness[0][word_index])\n",
    "        \n",
    "plt.scatter(surprisal_averages, concreteness_list)\n",
    "plt.show()\n",
    "print(scipy.stats.pearsonr(surprisal_averages, concreteness_list))"
   ]
  },
  {
   "cell_type": "markdown",
   "metadata": {},
   "source": [
    "### (h)\n",
    "\n",
    "Use the same approach that you used in part g to generate a scatter plot of surprisal vs. concreteness the nouns in `data/high_concreteness_nouns.txt`."
   ]
  },
  {
   "cell_type": "code",
   "execution_count": 135,
   "metadata": {},
   "outputs": [
    {
     "data": {
      "image/png": "[encoded data removed]",
      "text/plain": [
       "<matplotlib.figure.Figure at 0x1a353cdfd0>"
      ]
     },
     "metadata": {},
     "output_type": "display_data"
    },
    {
     "name": "stdout",
     "output_type": "stream",
     "text": [
      "(-0.30468397377663925, 0.0020550010838876385)\n"
     ]
    }
   ],
   "source": [
    "from provided_functions import load_words, read_concreteness\n",
    "from pprint import pprint\n",
    "import matplotlib.pyplot as plt\n",
    "import scipy\n",
    "from scipy import stats\n",
    "\n",
    "bigram_counts = get_bigram_counts('data/bnc_10k.txt')\n",
    "model_with_smoothing = arpa.loadf(\"data/bnc_10k_with_smoothing.arpa\")[0]\n",
    "\n",
    "\n",
    "words = load_words('data/high_concreteness_nouns.txt')\n",
    "concreteness = read_concreteness('data/calgary_concreteness.csv')\n",
    "\n",
    "surprisal_averages = []\n",
    "concreteness_list = []\n",
    "\n",
    "for index in range(len(words)):\n",
    "    surprisal_averages.append(compute_average_word_surprisal(words[index], bigram_counts, model_with_smoothing))\n",
    "    word_index = concreteness[1].index(words[index])\n",
    "    concreteness_list.append(concreteness[0][word_index])\n",
    "        \n",
    "plt.scatter(surprisal_averages, concreteness_list)\n",
    "plt.show()\n",
    "print(scipy.stats.pearsonr(surprisal_averages, concreteness_list))"
   ]
  },
  {
   "cell_type": "markdown",
   "metadata": {},
   "source": [
    "### (i)\n",
    "\n",
    "What is the relationship between surprisal and concreteness? Is the relationship different for high and low concreteness nouns? Explain why you think this is or is not the case."
   ]
  },
  {
   "cell_type": "markdown",
   "metadata": {},
   "source": [
    "#### (i) Solution:\n",
    "\n",
    "There seems to be no correlation between the low concreteness nouns and suprisal, but there is a negative correlation between the high concreteness nouns and surprisal, i.e the higher the surprisal, the less suprised someone is, the more concrete the noun is. I have two possible explanations for this:\n",
    "\n",
    "1. Concrete nouns refer to objects we encounter, and see everyday. We are generally more familiar with them, and do not need to think about them as much.\n",
    "2. The frequency of concrete nouns in literature is higher than abstract nouns. Since the surprisal function is dependent on the context of the word, and most context (due to higher frequency) predict concrete nouns, and thus, surprisal is lower."
   ]
  },
  {
   "cell_type": "markdown",
   "metadata": {},
   "source": [
    "### Citations\n",
    "\n",
    "$^1$Smith, N. J., & Levy, R. (2013). The effect of word predictability on reading time is logarithmic. Cognition, 128(3), 302-319. doi:10.1016/j.cognition.2013.02.013\n",
    "\n",
    "$^2$The British National Corpus, version 3 (BNC XML Edition). 2007. Distributed by Bodleian Libraries, University of Oxford, on behalf of the BNC Consortium. URL: http://www.natcorp.ox.ac.uk/\n",
    "\n",
    "$^3$A Standard Corpus of Present-Day Edited American English, for use with Digital Computers (Brown). 1964, 1971, 1979. Compiled by W. N. Francis and H. Kučera. Brown University. Providence, Rhode Island.\n",
    "\n",
    "$^4$Pexman, P. M., Heard, A., Lloyd, E., & Yap, M. J. (2016). The Calgary semantic decision project: Concrete/abstract decision data for 10,000 English words. Behavior Research Methods, 49(2), 407-417. doi:10.3758/s13428-016-0720-6"
   ]
  }
 ],
 "metadata": {
  "kernelspec": {
   "display_name": "Python 3",
   "language": "python",
   "name": "python3"
  },
  "language_info": {
   "codemirror_mode": {
    "name": "ipython",
    "version": 3
   },
   "file_extension": ".py",
   "mimetype": "text/x-python",
   "name": "python",
   "nbconvert_exporter": "python",
   "pygments_lexer": "ipython3",
   "version": "3.6.4"
  }
 },
 "nbformat": 4,
 "nbformat_minor": 2
}
