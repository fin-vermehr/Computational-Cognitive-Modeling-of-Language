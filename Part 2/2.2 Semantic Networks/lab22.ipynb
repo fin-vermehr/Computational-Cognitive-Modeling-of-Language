{
 "cells": [
  {
   "cell_type": "markdown",
   "metadata": {},
   "source": [
    "## COG403: Problem 2 of Problem Set 2: Semantic Networks\n",
    "\n",
    "### All 3 problems for Problem Set 2 Due 1 November 2018, 2 pm"
   ]
  },
  {
   "cell_type": "markdown",
   "metadata": {},
   "source": [
    "In this question you will be building and experimenting with a semantic network based on the Small World of Words data, to do a partial replication of the Abbott et al. (2015) experiments on a larger free association data set. To build the graph for the semantic network, we will be using the Python library `networkx`. Below are some examples of how to use this library."
   ]
  },
  {
   "cell_type": "code",
   "execution_count": 2,
   "metadata": {},
   "outputs": [
    {
     "name": "stdout",
     "output_type": "stream",
     "text": [
      "example_graph.nodes() => ['a', 'b', 'c', 'd']\n",
      "example_graph.edges() => [('a', 'b'), ('a', 'c'), ('a', 'd'), ('c', 'd')]\n",
      "'a' in example_graph => True\n",
      "example_graph['a'] => {'b': {'weight': 0.1}, 'c': {'weight': 0.2}, 'd': {'weight': 0.4}}\n"
     ]
    },
    {
     "data": {
      "text/plain": [
       "<matplotlib.figure.Figure at 0x104221630>"
      ]
     },
     "metadata": {},
     "output_type": "display_data"
    }
   ],
   "source": [
    "import networkx as nx\n",
    "from provided_functions import plot_graph\n",
    "\n",
    "from IPython.core.interactiveshell import InteractiveShell\n",
    "InteractiveShell.ast_node_interactivity = \"all\"\n",
    "\n",
    "\n",
    "# initialize graph\n",
    "example_graph = nx.DiGraph()\n",
    "\n",
    "# add nodes\n",
    "example_graph.add_node('a')\n",
    "example_graph.add_nodes_from(['b', 'c', 'd'])\n",
    "\n",
    "# add edges\n",
    "example_graph.add_edge('a', 'b', weight=0.1)\n",
    "example_graph.add_edge('a', 'c', weight=0.2)\n",
    "example_graph.add_edge('c', 'd', weight=0.1)\n",
    "example_graph.add_edge('a', 'd', weight=0.4)\n",
    "\n",
    "print(\"example_graph.nodes() => {}\".format(example_graph.nodes()))\n",
    "print(\"example_graph.edges() => {}\".format(example_graph.edges()))\n",
    "print(\"'a' in example_graph => {}\".format('a' in example_graph))\n",
    "print(\"example_graph['a'] => {}\".format(example_graph['a']))\n",
    "\n",
    "# use provided function to plot graph\n",
    "plot_graph(example_graph)"
   ]
  },
  {
   "cell_type": "markdown",
   "metadata": {},
   "source": [
    "### (a)\n",
    "\n",
    "Write a function to build a semantic network from the Small World of Words data using `networkx.DiGraph`. Call your function `get_swow_graph` and write it according to the specifications below. Print a list of all the node labels of nodes that *dog* has an outgoing edge to, as well as the weight of each edge."
   ]
  },
  {
   "cell_type": "code",
   "execution_count": 44,
   "metadata": {},
   "outputs": [
    {
     "name": "stdout",
     "output_type": "stream",
     "text": [
      "{'bark': {'weight': 0.06837606837606838}, 'cat': {'weight': 0.4358974358974359}, 'bone': {'weight': 0.06837606837606838}, 'puppy': {'weight': 0.08547008547008547}, 'friend': {'weight': 0.1282051282051282}, 'animal': {'weight': 0.06837606837606838}, 'pet': {'weight': 0.1452991452991453}}\n"
     ]
    }
   ],
   "source": [
    "from data.animals import ANIMAL_TO_CATEGORIES\n",
    "import pandas as pd\n",
    "import csv\n",
    "import numpy as np\n",
    "\n",
    "SWOW_FILE = 'data/SWOW-EN.R100.csv'\n",
    "\n",
    "import csv\n",
    "def get_swow_graph(node_threshold=5):\n",
    "    \"\"\"\n",
    "    node_threshold: int -- the number of times a word must occur in the SWOW data to be \n",
    "    added as a node to your graph.\n",
    "    \n",
    "    Generates a directed, weighted networkx.DiGraph where:\n",
    "        1. Nodes represent cues and responses from the SWOW data that occur at least node_threhsold times.\n",
    "           Note: the word 'NA' should not occur as a node.\n",
    "        2. Outgoing edges from each node sum to 1. These should be proportional to the number of times\n",
    "           each node occurs as a response to the cue associated with the given node.\n",
    "        3. The node 'animal' is treated a special case. The outgoing edges from the node 'animal' should\n",
    "           have a uniform probability over all cues in the SWOW data that are keys in the dict\n",
    "           ANIMAL_TO_CATEGORIES in the data/animals.py file.\n",
    "    \"\"\"\n",
    "    \n",
    "    graph_dict = dict()\n",
    "    \n",
    "    graph = nx.DiGraph()\n",
    "\n",
    "    df = pd.read_csv(SWOW_FILE)\n",
    "    \n",
    "    \n",
    "    #TODO: Change index ceiling\n",
    "    \n",
    "    for index in df.index:\n",
    "        \n",
    "        responses = []\n",
    "        \n",
    "        cue = df['cue'].iloc[index]\n",
    "        \n",
    "        if cue not in graph_dict:\n",
    "            graph_dict[cue] = [dict(), 1]\n",
    "        else:\n",
    "            graph_dict[cue][1] += 1\n",
    "        \n",
    "        responses.append(df['R1'].iloc[index])\n",
    "        responses.append(df['R2'].iloc[index])\n",
    "        responses.append(df['R3'].iloc[index])\n",
    "                \n",
    "        for response in responses:\n",
    "            \n",
    "            if response is np.nan:\n",
    "                continue\n",
    "            \n",
    "            if response not in graph_dict[cue][0]:\n",
    "                graph_dict[cue][0][response] = 1\n",
    "            else:\n",
    "                graph_dict[cue][0][response] += 1\n",
    "    \n",
    "    for cue in graph_dict:\n",
    "        if graph_dict[cue][1] >= 5 or cue is np.nan:\n",
    "            graph.add_node(cue)\n",
    "        \n",
    "        if cue == 'animal':\n",
    "            count = 0\n",
    "\n",
    "            for re in graph_dict[cue][0]:\n",
    "                if re in ANIMAL_TO_CATEGORIES:\n",
    "                    count += 1\n",
    "\n",
    "            for re in graph_dict[cue][0]:\n",
    "                if re in ANIMAL_TO_CATEGORIES:\n",
    "                    graph.add_node(re)\n",
    "                    edge_weight = (1 / count)\n",
    "                    graph.add_edge(cue, re, weight=edge_weight)\n",
    "        \n",
    "        else:\n",
    "            weight_sum = 0\n",
    "\n",
    "            for re in graph_dict[cue][0]:\n",
    "                if graph_dict[cue][0][re] >= 5 and re in graph_dict:\n",
    "                    weight_sum += graph_dict[cue][0][re]\n",
    "\n",
    "            for re in graph_dict[cue][0]:\n",
    "                if graph_dict[cue][0][re] >= 5 and re in graph_dict:\n",
    "                    graph.add_node(re)\n",
    "                    edge_weight = (graph_dict[cue][0][re]) / weight_sum\n",
    "                    graph.add_edge(cue, re, weight = edge_weight)\n",
    "                    \n",
    "    return graph\n",
    "\n",
    "graph = get_swow_graph()\n",
    "\n",
    "print(graph['dog'])"
   ]
  },
  {
   "cell_type": "markdown",
   "metadata": {},
   "source": [
    "### (b)\n",
    "\n",
    "In this step, you will visualize your graph using the function `plot_graph` in `provided_functions.py`. Because the actual graph has 10,000 nodes, we will visualize a portion of the graph. Write a function `get_subgraph` based on the specifications below. Call `get_subgraph` on your graph with three start nodes: *dog*, *turtle*, and *animal*. For *dog* and *turtle*, use `length=2` and `threshold=0.05`. For *animal*, use `length=1` and `threshold=0`. Call `plot_graph` on each subgraph.\n",
    "\n",
    "Hint: use the `subgraph` method of networkx graphs.\n",
    "\n",
    "Note: By default, the `plot_graph` function plots a graph as undirected. For your graphs for this question, please use the default to print them without the arrows. If you are curious and want to experiment, you can make it show the arrows by setting `arrows=True`. The reason it's set to `False` by default is that the way `matplotlib` renders the arrows decreases the interpretability of the graph."
   ]
  },
  {
   "cell_type": "code",
   "execution_count": 55,
   "metadata": {},
   "outputs": [],
   "source": [
    "graph = get_swow_graph()"
   ]
  },
  {
   "cell_type": "code",
   "execution_count": 59,
   "metadata": {},
   "outputs": [
    {
     "name": "stdout",
     "output_type": "stream",
     "text": [
      "dog\n"
     ]
    },
    {
     "data": {
      "image/png": "[encoded data removed]",
      "text/plain": [
       "<matplotlib.figure.Figure at 0x1519d46a58>"
      ]
     },
     "metadata": {},
     "output_type": "display_data"
    },
    {
     "data": {
      "text/plain": [
       "<networkx.classes.graphviews.SubDiGraph at 0x1518a86f98>"
      ]
     },
     "execution_count": 59,
     "metadata": {},
     "output_type": "execute_result"
    },
    {
     "name": "stdout",
     "output_type": "stream",
     "text": [
      "turtle\n"
     ]
    },
    {
     "data": {
      "image/png": "[encoded data removed]",
      "text/plain": [
       "<matplotlib.figure.Figure at 0x1518a80588>"
      ]
     },
     "metadata": {},
     "output_type": "display_data"
    },
    {
     "data": {
      "text/plain": [
       "<networkx.classes.graphviews.SubDiGraph at 0x1518b8fc50>"
      ]
     },
     "execution_count": 59,
     "metadata": {},
     "output_type": "execute_result"
    },
    {
     "name": "stdout",
     "output_type": "stream",
     "text": [
      "animal\n"
     ]
    },
    {
     "data": {
      "image/png": "[encoded data removed]",
      "text/plain": [
       "<matplotlib.figure.Figure at 0x1516de4898>"
      ]
     },
     "metadata": {},
     "output_type": "display_data"
    },
    {
     "data": {
      "text/plain": [
       "<networkx.classes.graphviews.SubDiGraph at 0x1519b842e8>"
      ]
     },
     "execution_count": 59,
     "metadata": {},
     "output_type": "execute_result"
    }
   ],
   "source": [
    "from provided_functions import plot_graph\n",
    " \n",
    "def get_subgraph(G, start, length=2, threshold=0.05):\n",
    "    \"\"\"\n",
    "    G: networkx.DiGraph -- semantic network of SWOW data\n",
    "    start: str -- name of node to start with\n",
    "    length: int -- the maximum distance a node can be from start to be included in the result.\n",
    "        The length of a path through the graph is the number of edges needed to get from\n",
    "        the start node to the end node (e.g. the path from A->B->C is 2).\n",
    "    threshold: float -- the minimum edge weight required for an edge to be added to the graph\n",
    "    \n",
    "    Return a subgraph of G based on a search starting at start. Only include nodes in your graph that \n",
    "    have a distance of length or less from your start node. When searching, only add nodes that are\n",
    "    connected to your graph by an edge with weight threshold or higher.\n",
    "    \"\"\"\n",
    "    \n",
    "    neighbour_dict = G[start]\n",
    "    visited_nodes = [start]\n",
    "    \n",
    "    for neighbour in neighbour_dict:\n",
    "        if neighbour_dict[neighbour]['weight'] >= threshold:\n",
    "            visited_nodes.append(neighbour)\n",
    "    \n",
    "    visited_nodes_2 = []\n",
    "    \n",
    "    for i in range(length):\n",
    "        for node in visited_nodes[1:]:\n",
    "            neighbour_dict = G[node]\n",
    "            \n",
    "            for neighbour in neighbour_dict:\n",
    "                if neighbour in visited_nodes or neighbour in visited_nodes_2:\n",
    "                    pass\n",
    "                elif neighbour_dict[neighbour]['weight'] >= threshold:\n",
    "                    visited_nodes_2.append(neighbour)\n",
    "                    \n",
    "    subgraph = list(set().union(visited_nodes, visited_nodes_2))\n",
    "    \n",
    "    H = G.subgraph(subgraph)\n",
    "    plot_graph(H)\n",
    "    return H\n",
    "    \n",
    "for start in ['dog', 'turtle', 'animal']:\n",
    "    print(start)\n",
    "    if start == 'animal':\n",
    "        get_subgraph(graph, start, 1, 0)\n",
    "    else:\n",
    "        get_subgraph(graph,start)"
   ]
  },
  {
   "cell_type": "markdown",
   "metadata": {},
   "source": [
    "### (c)\n",
    "\n",
    "Write two functions `get_most_likely_walk` and `get_least_likely_walk` that find the most and least likely walks from a given start node. Implement your functions according to the docstrings below.\n",
    "\n",
    "Call your functions with the graph from part a. In both cases, set `start = 'dog'` and `walk_length = 10`."
   ]
  },
  {
   "cell_type": "code",
   "execution_count": 70,
   "metadata": {},
   "outputs": [
    {
     "name": "stdout",
     "output_type": "stream",
     "text": [
      "Most Likely Walk:\n",
      "['dog', 'cat', 'feline', 'lion', 'tiger', 'orange', 'fruit', 'apple', 'red', 'blue', 'sky']\n",
      "Least Likely Walk:\n",
      "['dog', 'animal', 'newt']\n"
     ]
    }
   ],
   "source": [
    "def get_most_likely_walk(G, start, walk_length):\n",
    "    \"\"\"\n",
    "    G: networkx.DiGraph -- semantic network of SWOW data\n",
    "    start: str -- name of node to start with\n",
    "    walk_length: the length of the walk to return.\n",
    "    \n",
    "    Return a list of length walk_length representing a walk. Do not include start in your\n",
    "    result. Each node in your walk should be most likely node given the previous node. In\n",
    "    other words, it should be the node that the previous node has the highest weighted\n",
    "    outgoing edge to.\n",
    "    \n",
    "    Do not allow repeats in your walk. For example, say 'fox' is your start node and\n",
    "    'den' is the most likely node to follow 'fox'. Even if 'fox' is also the most\n",
    "    likely node to follow 'den', it should not be revisited after we've seen it. In this case,\n",
    "    you should select the second highest weighted edge.\n",
    "    \"\"\"\n",
    "    \n",
    "    walked_list = [start]\n",
    "    \n",
    "    current_node = start\n",
    "    \n",
    "    for step in range(walk_length):        \n",
    "        neighbor_dict = G[current_node]\n",
    "        \n",
    "        \n",
    "        max_weight = None\n",
    "        max_node = None\n",
    "        \n",
    "        for neighbor in neighbor_dict:\n",
    "            if (neighbor not in walked_list) and ((max_weight is None)\n",
    "                                                 or neighbor_dict[neighbor]['weight'] > max_weight):\n",
    "                max_weight = neighbor_dict[neighbor]['weight']\n",
    "                max_node = neighbor\n",
    "        if max_node is None:\n",
    "            break\n",
    "        else:\n",
    "            walked_list.append(max_node)\n",
    "            current_node = max_node\n",
    "    return walked_list\n",
    "\n",
    "def get_least_likely_walk(G, start, walk_length):\n",
    "    \"\"\"\n",
    "    G: networkx.DiGraph -- semantic network of SWOW data\n",
    "    start: str -- name of node to start with\n",
    "    walk_length: the length of the walk to return.\n",
    "    \n",
    "    Return a list of length walk_length representing a walk. Do not include start in your\n",
    "    result. Each node in your walk should be the least likely node that the previous node has an\n",
    "    outgoing edge to. (Note that there will be nodes that have a zero probability given\n",
    "    the previous node, and are not connected to the previous node at all. These should\n",
    "    not be included.)\n",
    "    \n",
    "    Do not allow repeats in your walk. For example, say 'fox' is your start node and\n",
    "    'rock' is the least likely node to follow 'fox'. Even if 'fox' is also the least\n",
    "    likely node to follow 'rock', it should not be revisited after we've seen it. In\n",
    "    this case, you should select the second lowest weighted edge.\n",
    "    \"\"\"\n",
    "    \n",
    "    walked_list = [start]\n",
    "    \n",
    "    current_node = start\n",
    "    \n",
    "    for step in range(walk_length):\n",
    "        \n",
    "        neighbor_dict = G[current_node]\n",
    "        \n",
    "        \n",
    "        min_weight = None\n",
    "        min_node = None\n",
    "        \n",
    "        \n",
    "        \n",
    "        for neighbor in neighbor_dict:\n",
    "            if (neighbor not in walked_list) and (min_weight is None or\n",
    "                                                  (neighbor_dict[neighbor]['weight'] <= min_weight)):\n",
    "    \n",
    "                min_weight = neighbor_dict[neighbor]['weight']\n",
    "                min_node = neighbor\n",
    "\n",
    "        if min_node is None:\n",
    "            break\n",
    "        else:\n",
    "            current_node = min_node\n",
    "            walked_list.append(min_node)\n",
    "    return walked_list\n",
    "\n",
    "print('Most Likely Walk:')\n",
    "print(get_most_likely_walk(graph, 'dog', 10))\n",
    "print('Least Likely Walk:')\n",
    "print(get_least_likely_walk(graph, 'dog', 10))"
   ]
  },
  {
   "cell_type": "markdown",
   "metadata": {},
   "source": [
    "### (d)\n",
    "\n",
    "Write a function `weighted_random_walk` to generate a random walk of length `walk_length` starting at node `start`. The probability of choosing the next node at each step in the walk should be based on your edge weights. You can implement this using `np.random.choice` (take a look at the documentation for the parameter `p`, which allows you to pass a list of weighted probabilities for the items to select from). These random walks (unlike in part c above) should allow revisiting nodes that have been visited before (since this is allowed in the Abbott et al. work).\n",
    "\n",
    "Your function should return a list of strings representing nodes visited. Implement your function according to the docstring below.\n",
    "\n",
    "Print the list of strings for a sample walk using the graph from part a with `start = 'animal'` and `walk_length = 50`."
   ]
  },
  {
   "cell_type": "code",
   "execution_count": 73,
   "metadata": {},
   "outputs": [
    {
     "name": "stdout",
     "output_type": "stream",
     "text": [
      "['lion', 'Africa', 'desert', 'arid', 'desert', 'dry', 'cleaning', 'house', 'roof', 'house', 'comfort', 'food', 'drink', 'water', 'clean', 'fresh', 'prince', 'royalty', 'king', 'prince', 'king', 'throne', 'royalty', 'crown', 'king', 'monarch', 'king', 'ruler', 'measure', 'amount', 'quantity', 'amount', 'quantity', 'amount', 'sum', 'math', 'calculus', 'math', 'algebra', 'equation', 'algebra', 'calculus', 'algebra', 'equation', 'equal', 'same', 'old', 'man', 'husband', 'wife']\n"
     ]
    }
   ],
   "source": [
    "import numpy as np\n",
    "\n",
    "def weighted_recursion(G, start, walk_length):\n",
    "    if walk_length == 0:\n",
    "        return [start]\n",
    "    else:\n",
    "        \n",
    "        visited_nodes = [start]\n",
    "        \n",
    "        neighbour_dict = G[start]\n",
    "        \n",
    "        neighbour_list = []\n",
    "        neighbour_weights = []\n",
    "        \n",
    "        for neighbour in neighbour_dict:\n",
    "            neighbour_list.append(neighbour)\n",
    "            neighbour_weights.append(neighbour_dict[neighbour]['weight'])\n",
    "        \n",
    "        \n",
    "        if len(neighbour_list) == 0:\n",
    "            return [start]\n",
    "        \n",
    "        next_node = np.random.choice(neighbour_list, 1, neighbour_weights)\n",
    "        \n",
    "        next_node = next_node[0]\n",
    "                \n",
    "        tmp_list = weighted_recursion(G, next_node, walk_length - 1)\n",
    "        \n",
    "        for item in tmp_list:\n",
    "            visited_nodes.append(item)\n",
    "        \n",
    "        \n",
    "        return visited_nodes\n",
    "\n",
    "def weighted_random_walk(G, start, walk_length):\n",
    "    \"\"\"\n",
    "    G: networkx.DiGraph -- semantic network of SWOW data\n",
    "    start: str -- name of node to start with\n",
    "    walk_length: the length of the walk to return.\n",
    "    \n",
    "    Return a list of length walk_length representing a walk. Do not include start in your\n",
    "    result. Each node in your walk should be randomly selected based on the weights of the\n",
    "    outgoing edges of the previous node. A node can be visited more than once.\n",
    "    \"\"\"\n",
    "    \n",
    "    path = weighted_recursion(G, start, walk_length)\n",
    "    \n",
    "    del path[0]\n",
    "    \n",
    "    return path\n",
    "        \n",
    "        \n",
    "print(weighted_random_walk(graph, 'animal', 50))"
   ]
  },
  {
   "cell_type": "markdown",
   "metadata": {},
   "source": [
    "### (e)\n",
    "\n",
    "Write a function `get_animals_and_IRT` according to the docstring below. Your function should return a tuple of (description, animal_list), where:\n",
    " * description is a string description. Each line should include a valid `item`, as well as the `steps` between the item and the previous item (ie, the nodes on the path between each pair of responses). A response is a valid item if its label is in `ANIMAL_TO_CATEGORIES` (defined in `data/animals.py`) and it has not been seen previously in the walk.\n",
    " * animal_list is a list of tuples of `(item, IRT)`, where item is a valid item, and the IRT is the interitem response time, as defined in Abbott et al.\n",
    " \n",
    "For example, the walk `[animal, dog, pet, cat, dog, bone, dinosaur, lizard]` \n",
    "\n",
    "The description would be:\n",
    "\n",
    "`item: dog       steps:\n",
    " item: cat       steps: pet\n",
    " item: lizard    steps: dog, bone, dinosaur`\n",
    "\n",
    "And the animal_list would be:\n",
    "`[('dog', 1), ('cat', 2), ('lizard', 4)]`\n",
    "\n",
    "Note that `dog` occurs twice in the random walk, but is only listed as an `item` one time.  Also, we know `dinosaur` is an animal, but it's not listed in `ANIMAL_TO_CATEGORIES`.\n",
    "\n",
    "Run your function `weighted_random_walk` from part d (with `start = 'animal'` and `walk_length = 50`) until you find a walk with at least 6 valid `items`. Print the random walk, as well as the description and the animal_list returned by `get_animal_and_IRT` called on this walk."
   ]
  },
  {
   "cell_type": "code",
   "execution_count": 240,
   "metadata": {},
   "outputs": [
    {
     "name": "stdout",
     "output_type": "stream",
     "text": [
      "[('fish', 1), ('trout', 2), ('dog', 6), ('lion', 6), ('bee', 15), ('bug', 2), ('insect', 3)]\n",
      "item: fish    steps:\n",
      "item: trout    steps: \n",
      "item: dog    steps: fishing, water, wet, moist, wet\n",
      "item: lion    steps: friend, mate, love, heart, courage\n",
      "item: bee    steps: king, monarch, crown, gold, metal, rock, paper, book, paper, parchment, writing, English, England, queen\n",
      "item: bug    steps: \n",
      "item: insect    steps: annoy, bug\n",
      "\n"
     ]
    },
    {
     "data": {
      "text/plain": [
       "('item: fish    steps:\\nitem: trout    steps: \\nitem: dog    steps: fishing, water, wet, moist, wet\\nitem: lion    steps: friend, mate, love, heart, courage\\nitem: bee    steps: king, monarch, crown, gold, metal, rock, paper, book, paper, parchment, writing, English, England, queen\\nitem: bug    steps: \\nitem: insect    steps: annoy, bug\\n',\n",
       " [('fish', 1),\n",
       "  ('trout', 2),\n",
       "  ('dog', 6),\n",
       "  ('lion', 6),\n",
       "  ('bee', 15),\n",
       "  ('bug', 2),\n",
       "  ('insect', 3)])"
      ]
     },
     "execution_count": 240,
     "metadata": {},
     "output_type": "execute_result"
    }
   ],
   "source": [
    "from data.animals import ANIMAL_TO_CATEGORIES\n",
    "\n",
    "node_list = []\n",
    "\n",
    "seen = []\n",
    "while len(seen) < 6:\n",
    "    seen = []\n",
    "    node_list = weighted_random_walk(graph, 'animal', 50)\n",
    "    for word in node_list:\n",
    "        if word in ANIMAL_TO_CATEGORIES and word not in seen:\n",
    "            seen.append(word)\n",
    "\n",
    "def get_animal_and_IRT(node_list):\n",
    "    \"\"\"\n",
    "    node_list: list of string\n",
    "    \n",
    "    Return a tuple (description, animal_list). Where:\n",
    "      - description is a string in the format shown in the question description above\n",
    "      - animal_list is a list of tuples of (item, IRT), where item is a unique item, and count\n",
    "          is the interitem response time, as defined in Abott et al.\n",
    "    Ignore the nodes visited after the last unique item is found.\n",
    "    \"\"\"\n",
    "    \n",
    "    string = ''\n",
    "    \n",
    "    animal_list = []\n",
    "    \n",
    "    not_used = []\n",
    "    \n",
    "    used = []\n",
    "        \n",
    "                \n",
    "    for step in range(len(node_list)):\n",
    "        if step == 0:\n",
    "            string += 'item: {0}    steps:\\n'.format(node_list[step])\n",
    "            \n",
    "            animal_list.append((node_list[step], step + 1))\n",
    "            used.append(node_list[step])\n",
    "            \n",
    "        elif node_list[step] in ANIMAL_TO_CATEGORIES and node_list[step] not in used:\n",
    "            \n",
    "            tmp_string = ''\n",
    "            \n",
    "            for item in not_used:\n",
    "                if len(tmp_string) == 0:\n",
    "                    tmp_string += item\n",
    "                else:\n",
    "                    tmp_string += ', ' + item\n",
    "            \n",
    "            string += 'item: {0}    steps: {1}\\n'.format(node_list[step], tmp_string)\n",
    "            \n",
    "            animal_list.append((node_list[step], len(tmp_string.split(',')) + 1))\n",
    "            \n",
    "            not_used = []\n",
    "            used.append(node_list[step])\n",
    "        else:\n",
    "            not_used.append(node_list[step])\n",
    "    \n",
    "    print(animal_list)\n",
    "    print(string)\n",
    "\n",
    "    return (string, animal_list)\n",
    "get_animal_and_IRT(node_list)\n",
    "    \n",
    "    "
   ]
  },
  {
   "cell_type": "markdown",
   "metadata": {},
   "source": [
    "### (f)\n",
    "\n",
    "Here, you'll do an analysis of the IRT pattern in the random walks you generate, somewhat simplified from the Abbott et al. reading.  \n",
    "\n",
    "First, you'll need to recognize \"patch switches\": Check for each valid animal item whether it shares a category with the previous valid animal item in the walk.\n",
    "\n",
    "Second, you'll calculate the mean IRT across the entire walk (mIRT), as well as the mean difference from mIRT at each of three points: At valid animals that constitute a patch switch (position 1), as well as at valid animals one before a patch switch (position -1), and valid animals one after a patch switch (position 2).\n",
    "\n",
    "Finally, you'll average these values across a set of random walks.\n",
    "\n",
    "Implement this in the `graph_patch_switches` function below, according to the docstring.  (Note that the walks you pass into the function will be in the format of a list of (item, IRT) tuples returned by the function `get_animal_and_IRT` in part e).\n",
    "\n",
    "Call `graph_patch_switches` on the two input lists provide in the file `sample_rw_lists.py` and show the graph for each."
   ]
  },
  {
   "cell_type": "code",
   "execution_count": 190,
   "metadata": {},
   "outputs": [
    {
     "data": {
      "image/png": "[encoded data removed]",
      "text/plain": [
       "<matplotlib.figure.Figure at 0x151dfdb898>"
      ]
     },
     "metadata": {},
     "output_type": "display_data"
    },
    {
     "data": {
      "image/png": "[encoded data removed]",
      "text/plain": [
       "<matplotlib.figure.Figure at 0x151df290f0>"
      ]
     },
     "metadata": {},
     "output_type": "display_data"
    }
   ],
   "source": [
    "import matplotlib.pyplot as plt\n",
    "import numpy as np\n",
    "\n",
    "from data.animals import ANIMAL_TO_CATEGORIES\n",
    "from sample_rw_lists import sample1, sample2\n",
    "\n",
    "\n",
    "def generate_plot(triple_averages):\n",
    "    \"\"\"\n",
    "    triple_averages: list of length three representing the difference in mean IRTs at \"patch switch\"\n",
    "        positions compared to the overall mean IRT.\n",
    "        The order should be (position -1, position 1, position 2).\n",
    "        \n",
    "    Generate a bar graph of triple_averages.\n",
    "    \"\"\"\n",
    "    y_positions = np.arange(len(triple_averages))\n",
    "    plt.bar(y_positions, triple_averages, align='center', alpha=0.5)\n",
    "    plt.xticks(y_positions, ['position -1', 'position 1', 'position 2'])\n",
    "    plt.ylabel('difference from mean IRT')\n",
    "    plt.show()\n",
    "\n",
    "\n",
    "def graph_patch_switches(walks):\n",
    "    \"\"\"\n",
    "    walks: list of list of tuple. Each inner list represents a walk. Each tuple in a walk\n",
    "        should be of the format (item, IRT), where item is a string representing a valid animal\n",
    "        in a walk and IRT is an integer indicating the time between this item and the previous one.\n",
    "    \n",
    "    Generate a graph of the average difference between overall mean IRT of a walk, and the mean IRT\n",
    "    at each of three patch switch positions:\n",
    "        position -1 corresponds to the items just before the first item in a patch switch, \n",
    "        position 1 corresponds to the first items in a patch switch, \n",
    "        position 2 corresponds to the items in the next position following those in position 1,\n",
    "            when those next items are in the same patch as the item in position 1.\n",
    "    Compute the mean IRT for each of the three positions, and the difference between those means\n",
    "        and the overall mean IRT of each walk.\n",
    "    Calculate the mean of these differences across all the random walks and plot those using the\n",
    "        generate_plot function defined above.\n",
    "    \"\"\"\n",
    "    \n",
    "    averages = []\n",
    "    \n",
    "    for walk in walks:\n",
    "        \n",
    "        position_neg = []\n",
    "        position_1 = []\n",
    "        position_2 = []\n",
    "        \n",
    "        for index in range(len(walk) - 1):\n",
    "            index += 1\n",
    "        \n",
    "            current_patch = ANIMAL_TO_CATEGORIES[walk[index][0]]\n",
    "            previous_patch = ANIMAL_TO_CATEGORIES[walk[index - 1][0]]\n",
    "            \n",
    "            if set(current_patch).intersection(previous_patch) == set():\n",
    "                position_neg.append(walk[index - 1][1])\n",
    "                position_1.append(walk[index][1])\n",
    "                if index + 1 < len(walk):\n",
    "                    position_2.append(walk[index + 1][1])\n",
    "            \n",
    "        mIRT = 0\n",
    "        for step in walk:\n",
    "            mIRT += step[1]\n",
    "\n",
    "        mIRT = mIRT / len(walk)\n",
    "\n",
    "        neg_avg = 0\n",
    "\n",
    "        for step in position_neg:\n",
    "            neg_avg += step\n",
    "        if neg_avg != 0:\n",
    "            neg_avg = neg_avg / len(position_neg)\n",
    "\n",
    "\n",
    "        avg_1 = 0\n",
    "\n",
    "        for step in position_1:\n",
    "            avg_1 += step\n",
    "        if avg_1 != 0:\n",
    "            avg_1 = avg_1 / len(position_1)\n",
    "\n",
    "        avg_2 = 0\n",
    "\n",
    "        for step in position_2:\n",
    "            avg_2 += step\n",
    "        if avg_2 != 0:\n",
    "            avg_2 = avg_2 / len(position_2)\n",
    "\n",
    "\n",
    "        neg_mean_dif = abs(mIRT - neg_avg)\n",
    "        mean_dif_1 = abs(mIRT - avg_1)\n",
    "        mean_dif_2 = abs(mIRT - avg_2)\n",
    "\n",
    "        averages.append([neg_mean_dif, mean_dif_1, mean_dif_2])\n",
    "            \n",
    "    mean_neg = 0\n",
    "    mean_1 = 0\n",
    "    mean_2 = 0\n",
    "\n",
    "\n",
    "    for i in range(len(averages)):\n",
    "        mean_neg += averages[i][0]\n",
    "        mean_1 += averages[i][1]\n",
    "        mean_2 += averages[i][2]\n",
    "\n",
    "\n",
    "\n",
    "    n = len(averages)\n",
    "    generate_plot([mean_neg / n, mean_1 / n, mean_2 / n])\n",
    "    \n",
    "graph_patch_switches(sample1)\n",
    "\n",
    "graph_patch_switches(sample2)\n"
   ]
  },
  {
   "cell_type": "markdown",
   "metadata": {},
   "source": [
    "### (g)\n",
    "\n",
    "Now call `graph_patch_switches` on a list of N walks generated using the graph from part a with `start = 'animal'` and `walk_length = 50`. Only include walks containing 6 or more valid animal items in your analysis. (More specifically, you should generate walks until you have N walks that contain at least 6 valid animal items.)\n",
    "\n",
    "(i) Run your function with N=20 and show the graph.  Explain whether this matches the patch switch pattern seen in the human data and replicated by Abbott et al.\n",
    "\n",
    "(ii) Now run your function 10 more times with N=20.  Discuss whether the graphs across these different runs show the same pattern consistently.  Please do not include these graphs in what you turn in.\n",
    "\n",
    "(iii) Run your function two times with N=1000 random walks (this can take about 2 minutes each), and print the graphs for each of these two runs.  Explain whether the graphs match the patch switch pattern seen in the human data and replicated by Abbott et al.  Are the results consistent across the two runs?"
   ]
  },
  {
   "cell_type": "code",
   "execution_count": null,
   "metadata": {},
   "outputs": [],
   "source": [
    "graph = get_swow_graph()"
   ]
  },
  {
   "cell_type": "code",
   "execution_count": 220,
   "metadata": {},
   "outputs": [
    {
     "data": {
      "image/png": "[encoded data removed]",
      "text/plain": [
       "<matplotlib.figure.Figure at 0x151c4b45c0>"
      ]
     },
     "metadata": {},
     "output_type": "display_data"
    }
   ],
   "source": [
    "def testing(N):\n",
    "    \n",
    "    random_walks = []\n",
    "        \n",
    "    while len(random_walks) < 20:\n",
    "        random_walk = weighted_random_walk(graph, 'animal', 50)\n",
    "        IRT_list = get_animal_and_IRT(random_walk)\n",
    "        \n",
    "        if len(IRT_list[1]) > 5:\n",
    "            random_walks.append(IRT_list[1])\n",
    "    \n",
    "    graph_patch_switches(random_walks)\n",
    "        \n",
    "#         if len(IRT_list) > 5:\n",
    "#             print(IRT_list)\n",
    "#             random_walks.append(IRT_list)\n",
    "#     print(al)\n",
    "    \n",
    "testing(20)"
   ]
  },
  {
   "cell_type": "markdown",
   "metadata": {},
   "source": [
    "The pattern is matches the patch switch pattern seen in the human data and replicated by Abbott et al, the position 2 is the lowest value, position -1 the middle value, and position 1 has the highest value.\n",
    "\n",
    "Rerunning the above code, generates a variety of plots, sometimes position 2 is greater than position -1, yet position 1 is consistently the highest."
   ]
  },
  {
   "cell_type": "code",
   "execution_count": 226,
   "metadata": {},
   "outputs": [
    {
     "data": {
      "image/png": "[encoded data removed]",
      "text/plain": [
       "<matplotlib.figure.Figure at 0x1519561b38>"
      ]
     },
     "metadata": {},
     "output_type": "display_data"
    }
   ],
   "source": [
    "testing(1000)"
   ]
  },
  {
   "cell_type": "markdown",
   "metadata": {},
   "source": [
    "Running the above code multiple times, generates a variety of different plots, yet the general impression is the same: position -1 is the smalles, position 1 is the largest, and position 2 is approximatly equal to position -1, sometimes a bit less, usually a bit more."
   ]
  },
  {
   "cell_type": "markdown",
   "metadata": {},
   "source": [
    "### (h)\n",
    "\n",
    "Write a script to call `get_animals_and_IRT` from part e on 20 random walks of length 50 starting at 'animal'. Write your script so that each random walk contains at least 6 valid animal items. Make sure to clearly number walks 1 - 20."
   ]
  },
  {
   "cell_type": "code",
   "execution_count": 239,
   "metadata": {},
   "outputs": [
    {
     "name": "stdout",
     "output_type": "stream",
     "text": [
      "Walk 1 \n",
      " ['elephant', 'Africa', 'continent', 'Asia', 'continent', 'Europe', 'travel', 'go', 'run', 'exercise', 'bike', 'ride', 'horse', 'pony', 'horse', 'barn', 'animals', 'dog', 'cat', 'furry', 'animal', 'leopard'] \n",
      "\n",
      "Walk 2 \n",
      " ['horse', 'animal', 'dog', 'bark', 'dog', 'puppy', 'love', 'like', 'Facebook', 'social', 'butterfly', 'color', 'red', 'white', 'pure', 'innocent', 'baby', 'diaper', 'change', 'new', 'fresh', 'fish', 'food', 'drink', 'imbibe', 'drink', 'swallow', 'eat', 'now', 'how', 'why', 'who', 'how', 'when', 'date', 'calendar', 'days', 'time', 'hour', 'second', 'third', 'place', 'here', 'location', 'area', 'place', 'here', 'location', 'map', 'globe'] \n",
      "\n",
      "Walk 3 \n",
      " ['lion', 'king', 'monarch', 'ruler', 'measurement', 'height', 'high', 'mountain', 'top', 'above', 'over', 'cricket', 'bug', 'insect', 'bite', 'food', 'eat', 'hungry', 'thirsty', 'desert', 'sand', 'castle', 'stone', 'rock', 'music', 'sound', 'hear', 'noise', 'sound', 'hear', 'ears', 'face', 'mouth', 'face', 'off', 'dark', 'night', 'good', 'food', 'good', 'well', 'hole', 'deep', 'shallow', 'water', 'wet', 'dog', 'animal', 'cat', 'soft'] \n",
      "\n",
      "Walk 4 \n",
      " ['bear', 'teddy', 'bear', 'grizzly', 'beard', 'shave', 'beard', 'hair', 'brush', 'tooth', 'dentist', 'teeth', 'bite', 'dog', 'cat', 'pet', 'bird', 'feather', 'pillow', 'white', 'black', 'cat', 'purr', 'happy', 'cheerful', 'glad', 'smile', 'friendly', 'nice', 'sweet', 'candy', 'chocolate', 'candy', 'sweet', 'kind', 'good', 'boy', 'friend', 'ship', 'cruise', 'boat', 'ship', 'boat', 'canoe', 'lake', 'fish', 'salmon', 'pink', 'red', 'rose'] \n",
      "\n",
      "Walk 5 \n",
      " ['lion', 'cat', 'pet', 'cat', 'meow', 'purr', 'cat', 'kitten', 'cute', 'sweet', 'sugar', 'tea', 'cup', 'spoon', 'knife', 'cut', 'hair', 'comb', 'brush', 'paint', 'artist', 'creative', 'art', 'drawing', 'artist', 'painting', 'color', 'green', 'leaf', 'book', 'cover', 'duck', 'bird', 'fly', 'soar', 'high', 'sky', 'blue', 'sky', 'cloud', 'rain', 'cold', 'chill', 'ice', 'cube', 'square', 'shape', 'triangle', 'square', 'dance'] \n",
      "\n",
      "Walk 6 \n",
      " ['snail', 'shell', 'turtle', 'green', 'tree', 'tall', 'big', 'huge', 'giant', 'huge', 'large', 'huge', 'big', 'giant', 'large', 'small', 'large', 'grand', 'large', 'fat', 'ugly', 'girl', 'lady', 'tramp', 'lady', 'bug', 'bother', 'brother', 'father', 'God', 'Jesus', 'savior', 'Christ', 'religion', 'belief', 'faith', 'God', 'dog', 'animal', 'bear', 'cub', 'baby', 'diaper', 'cloth', 'clothing', 'pants', 'jeans', 'blue', 'sad', 'frown'] \n",
      "\n",
      "Walk 7 \n",
      " ['snail', 'trail', 'dirt', 'grass', 'ass', 'donkey', 'horse', 'cow', 'milk', 'honey', 'bee', 'insect', 'small', 'large', 'fat', 'large', 'small', 'minuscule', 'miniature', 'toy', 'boy', 'man', 'woman', 'child', 'mother', 'loving', 'care', 'feel', 'warm', 'summer', 'beach', 'sand', 'ocean', 'salt', 'white', 'color', 'rainbow', 'gay', 'happy', 'joy', 'glee', 'delight', 'happiness', 'sadness', 'sorrow', 'sadness', 'sorrow', 'sad', 'frown', 'angry'] \n",
      "\n",
      "Walk 8 \n",
      " ['elephant', 'grey', 'wolf', 'moon', 'night', 'owl', 'wise', 'wisdom', 'smart', 'clever', 'intelligent', 'bright', 'white', 'snow', 'wet', 'water', 'drink', 'imbibe', 'drunk', 'beer', 'drink', 'swallow', 'bird', 'feathers', 'bird', 'fly', 'insect', 'bug', 'insect', 'fly', 'airplane', 'plane', 'sky', 'blue', 'sad', 'blue', 'boy', 'play', 'children', 'young', 'naive', 'stupid', 'idiot', 'dumb', 'smart', 'genius', 'intelligence', 'knowledge', 'learning', 'education'] \n",
      "\n",
      "Walk 9 \n",
      " ['fish', 'salmon', 'pink', 'rose', 'red', 'pink', 'rose', 'smell', 'nose', 'smell', 'taste', 'sweet', 'candy', 'sweet', 'candy', 'sweet', 'kind', 'happy', 'sad', 'blue', 'green', 'money', 'rich', 'poor', 'broke', 'poor', 'bad', 'horrible', 'nasty', 'dirty', 'laundry', 'basket', 'case', 'briefcase', 'paper', 'airplane', 'jet', 'plane', 'fly', 'away', 'gone', 'lost', 'found', 'dog', 'cat', 'dog', 'puppy', 'cute', 'puppy', 'dog'] \n",
      "\n",
      "Walk 10 \n",
      " ['bird', 'fly', 'bug', 'bother', 'me', 'myself', 'me', 'myself', 'me', 'you', 'us', 'together', 'happy', 'birthday', 'celebration', 'party', 'hearty', 'meal', 'corn', 'field', 'ball', 'fun', 'enjoyment', 'happiness', 'smile', 'happy', 'joy', 'love', 'God', 'damn', 'fuck', 'sex', 'female', 'gender', 'female', 'gender', 'female', 'sex', 'love', 'husband', 'love', 'God', 'dog', 'cat', 'animal', 'bear', 'cub', 'baby', 'diaper', 'dirty'] \n",
      "\n",
      "Walk 11 \n",
      " ['cat', 'meow', 'purr', 'kitten', 'furry', 'fuzzy', 'bear', 'endure', 'last', 'one', 'three', 'number', 'count', 'add', 'math', 'calculus', 'difficult', 'hard', 'rock', 'paper', 'pen', 'writing', 'reading', 'knowledge', 'book', 'paper', 'newspaper', 'paper', 'news', 'information', 'internet', 'network', 'internet', 'computer', 'mouse', 'rat', 'mouse', 'trap', 'bear', 'grizzly', 'bear', 'teddy', 'bear', 'carry', 'lift', 'carry', 'over', 'cricket', 'bat', 'ball'] \n",
      "\n",
      "Walk 12 \n",
      " ['bird', 'feathers', 'birds', 'fly', 'bird', 'fly', 'bird', 'feathers', 'bird', 'feather', 'pillow', 'bed', 'bug', 'insect', 'bug', 'insect', 'bee', 'bug', 'bother', 'nuisance', 'annoying', 'loud', 'music', 'notes', 'book', 'read', 'book', 'read', 'magazine', 'gun', 'kill', 'death', 'life', 'line', 'draw', 'art', 'picture', 'image', 'photograph', 'color', 'red', 'color', 'green', 'field', 'baseball', 'field', 'pasture', 'sheep', 'wool', 'warm'] \n",
      "\n",
      "Walk 13 \n",
      " ['dog', 'cat', 'kitten', 'cat', 'tiger', 'lion', 'cat', 'meow', 'cat', 'kitten', 'furry', 'animal', 'bear', 'animal', 'snail', 'trail', 'road', 'kill', 'time', 'hour', 'long', 'time', 'watch', 'television', 'watch', 'wrist', 'watch', 'guard', 'protect', 'love', 'marriage', 'wedding', 'day', 'night', 'dark', 'scary', 'horror', 'fear', 'death', 'funeral', 'black', 'color', 'blue', 'sea', 'water', 'blue', 'sea', 'shell', 'turtle', 'slow'] \n",
      "\n",
      "Walk 14 \n",
      " ['lion', 'tiger', 'animal', 'tiger', 'cat', 'mouse', 'trap', 'bear', 'teddy', 'bear', 'animal', 'shark'] \n",
      "\n",
      "Walk 15 \n",
      " ['goat', 'cheese', 'mouse', 'cheese', 'mouse', 'rat', 'dirty', 'laundry', 'dirty', 'wash', 'face', 'pretty', 'good', 'ugly', 'girl', 'cute', 'puppy', 'kitten', 'baby', 'face', 'off', 'away', 'home', 'family', 'love', 'you', 'person', 'woman', 'beauty', 'love', 'heart', 'pump', 'iron', 'board', 'wood', 'forest', 'animals', 'dog', 'cat', 'soft', 'pillow', 'feather', 'pillow', 'feather', 'pillow', 'soft', 'skin', 'smooth', 'criminal', 'crime'] \n",
      "\n",
      "Walk 16 \n",
      " ['goat', 'sheep', 'lamb', 'little', 'tiny', 'small', 'big', 'large', 'big', 'gigantic', 'huge', 'large', 'huge', 'large', 'enormous', 'big', 'tall', 'big', 'little', 'petite', 'tiny', 'mouse', 'tail', 'dog', 'puppy', 'baby', 'girl', 'cute', 'puppy', 'cute', 'little', 'minute', 'day', 'sun', 'burn', 'fire', 'truck', 'car', 'road', 'long', 'far', 'long', 'distance', 'long', 'yearn', 'ache', 'tooth', 'bite', 'mouth', 'kiss'] \n",
      "\n",
      "Walk 17 \n",
      " ['cat', 'meow', 'cat', 'kitten', 'cat', 'kitten', 'cute', 'girl', 'dress', 'clothe', 'cover', 'song', 'bird', 'feathers', 'bird', 'fly', 'high', 'drunk', 'drink', 'eat', 'now', 'right', 'wing', 'chicken', 'feathers', 'down', 'town', 'city', 'state', 'union', 'labor', 'party', 'food', 'drink', 'thirsty', 'hungry', 'thirsty', 'water', 'wet', 'dog', 'friend', 'ship', 'ocean', 'sea', 'shell', 'ocean', 'waves', 'light', 'day', 'night'] \n",
      "\n",
      "Walk 18 \n",
      " ['goat', 'cheese', 'mouse', 'cheese', 'mouse', 'small', 'miniature', 'little', 'small', 'big', 'large', 'small', 'big', 'huge', 'big', 'tall', 'high', 'kite', 'fly', 'insect', 'bee', 'busy', 'work', 'study', 'library', 'reading', 'writing', 'book', 'page', 'boy', 'young', 'baby', 'sweet', 'kind', 'sweet', 'nice', 'mean', 'cruel', 'mean', 'understand', 'learn', 'education', 'school', 'children', 'small', 'wee', 'small', 'large', 'size', 'height'] \n",
      "\n",
      "Walk 19 \n",
      " ['bear', 'teddy', 'bear', 'endure', 'survive', 'island', 'water', 'liquid', 'wet', 'towel', 'soft', 'hard', 'soft', 'hard', 'soft', 'skin', 'flesh', 'meat', 'beef', 'cow', 'farm', 'horse', 'race', 'gender', 'sex', 'hot', 'cold', 'winter', 'snow', 'winter', 'cold', 'hot', 'sweat', 'wet', 'dog', 'puppy', 'kitten', 'cute', 'puppy', 'cute', 'little', 'tiny', 'little', 'big', 'small', 'fry', 'deep', 'dark', 'black', 'dark'] \n",
      "\n",
      "Walk 20 \n",
      " ['bear', 'burden', 'carry', 'over', 'above', 'sky', 'blue', 'sea', 'water', 'ice', 'water', 'swim', 'pool', 'blue', 'color', 'rainbow', 'gay', 'happy', 'content', 'book', 'cover', 'bed', 'comfort', 'food', 'cook', 'fry', 'chicken', 'soup', 'bowl', 'soup', 'bowl', 'round', 'fat', 'big', 'small', 'minuscule', 'tiny', 'mouse', 'rat', 'tail', 'dog', 'bark', 'dog', 'puppy', 'kitten', 'baby', 'girl', 'young', 'naive', 'innocent'] \n",
      "\n"
     ]
    }
   ],
   "source": [
    "i = 1\n",
    "while i <= 20:\n",
    "    random_walks = weighted_random_walk(graph, 'animal', 50)\n",
    "    IRT_list = get_animal_and_IRT(random_walks)[1]\n",
    "    if len(IRT_list) >= 6:\n",
    "        print('Walk {0} \\n {1} \\n'.format(i, random_walks))\n",
    "        i += 1"
   ]
  },
  {
   "cell_type": "markdown",
   "metadata": {},
   "source": [
    "### (i)\n",
    "\n",
    "(i) Name three different aspects of the paths you see in part h which contribute to the length of a path and which are not simple, direct associations with animal words.  For example, paths such as cat=>pet=>goldfish or tiger=>stripes=>zebra seem to match our intuition about what might trigger chains of responses in human semantic fluency. But you almost certainly found some paths in which chains of associations are longer due to some interesting factors.  Please identify three of these and show an example of each from your paths.\n",
    "\n",
    "(ii) Also, find a path that you think is particularly funny, and say why.\n",
    "\n",
    "(iii) How does your inspection of the 20 paths you generated influence your assessment of the findings in Abbott et al.? "
   ]
  },
  {
   "cell_type": "markdown",
   "metadata": {},
   "source": [
    "### Question (i)\n",
    "\n",
    "I find walk \\#6 particulairly interesting, it displays two different types of patterns. First we go from 'grass' to 'ass' to 'hole' to 'ass' to 'donkey'. I hypothesize that we went from 'grass' to 'ass' because these two words rhyme with each other, i.e there is a phonological connection between them. Then we went from 'ass' to 'hole' (thinking of asshole) to 'ass' again, to finally 'donkey'. This is because of polysemy, the word 'ass' has two different meanings, the physiological ass, and the donkey. Another interesting pattern that I observed is that many paths include opposites of the current object, for example in walk 10 we go from 'female' to 'male', and then again later we go from 'small' to 'big'.\n",
    "\n",
    "### Question (ii)\n",
    "\n",
    "I find the following path particulairly funny \"'friend', 'father', 'priest', 'pedophile'\" because it is so surprising, a bit offensive, but also aware of current controversy.\n",
    "\n",
    "### Question (iii)\n",
    "\n",
    "My inspection of these 20 paths made me more confident in the findings of Abbott et al. We find many very realistic paths. I think a limitation may be that the path generator is memoryless. That following path demonstrates this well, \"'bowl', 'round', 'fat'\". The word 'bowl' would prime you to think of bowl like objects, even if you are 2 steps away, you'd be less likely to think of 'fat'. It would be interesting to run the random path selection experiment but with some sort of memory function that rather than picking a random (and weighted) connection, you pick a connection that leads to something which is in the same category as your current object. This would account for priming."
   ]
  },
  {
   "cell_type": "code",
   "execution_count": null,
   "metadata": {},
   "outputs": [],
   "source": []
  }
 ],
 "metadata": {
  "kernelspec": {
   "display_name": "Python 3",
   "language": "python",
   "name": "python3"
  },
  "language_info": {
   "codemirror_mode": {
    "name": "ipython",
    "version": 3
   },
   "file_extension": ".py",
   "mimetype": "text/x-python",
   "name": "python",
   "nbconvert_exporter": "python",
   "pygments_lexer": "ipython3",
   "version": "3.6.4"
  }
 },
 "nbformat": 4,
 "nbformat_minor": 2
}
