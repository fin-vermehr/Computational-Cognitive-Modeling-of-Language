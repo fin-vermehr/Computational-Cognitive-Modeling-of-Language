{
 "cells": [
  {
   "cell_type": "markdown",
   "metadata": {},
   "source": [
    "## COG403: Problem 3 of Problem Set 2: Noun Classes in Tsez\n",
    "\n",
    "### All 3 problems for Problem Set 2 Due 1 November 2018, 2 pm"
   ]
  },
  {
   "cell_type": "markdown",
   "metadata": {},
   "source": [
    "In this problem, you'll implement a Naive Bayes classifier (we'll call this Model 0) as well as the Phonological Preference model (Model 3) from Gagliardi et al. (2012).  Then you'll apply Model 3 to three new sets of Tsez data: from younger children (4-7 year olds), older children (8-12 year olds), and adults, and analyze the pattern of learning revealed by the three."
   ]
  },
  {
   "cell_type": "markdown",
   "metadata": {},
   "source": [
    "### (a)\n",
    "\n",
    "Implement `get_features_given_class` according to the docstring below.\n",
    "This function computes the conditional probabilities $p(f_i|c_j)$\n",
    "where $f_i$ is a feature value and $c_j$ is one of the noun classes. `get_features_given_class` will be used by both Model 0 and Model 3.\n",
    "\n",
    "* For full credit on this problem, the `get_features_given_class` function should use an estimate of the expected value according to a Dirichlet distribution, as discussed in class, using the $\\alpha$ as specified in the code prior to the function.\n",
    "\n",
    "* For partial credit, you can use a Maximum Likelihood Estimate of the conditional probability in `get_features_given_class`.  You might also first implement the function using MLE in order to easily check your computations.\n",
    "\n",
    "Make sure to go through and verify that your conditional probability computations make sense (ideally working them out by hand for a particular feature value). You are not required to show this here, but it is critical that you understand this to do well on this problem.\n",
    "\n",
    "Call `get_feature_given_class('semantic')` to show the output of your function on semantic features."
   ]
  },
  {
   "cell_type": "code",
   "execution_count": 36,
   "metadata": {},
   "outputs": [
    {
     "name": "stdout",
     "output_type": "stream",
     "text": [
      "[[0.         0.         0.12834592 0.        ]\n",
      " [0.         0.2235023  0.         0.        ]\n",
      " [1.         0.         0.         0.        ]\n",
      " [0.         0.77649769 0.87165408 1.        ]]\n"
     ]
    }
   ],
   "source": [
    "import numpy as np\n",
    "from data import class_features_joint, noun_class_probabilities, SEMANTIC_TAGS, BEG_PHON_TAGS\n",
    "from scipy.stats import dirichlet, beta\n",
    "\n",
    "alpha = 0.001 # This is the alpha constant for the Dirichlet estimates\n",
    "              # of expected values of the conditional probabilities.\n",
    "              # (alpha_i = alpha_j for all feature values i, j)\n",
    "# You're welcome to experiment with different values of alpha, but:\n",
    "# BE SURE THAT alpha IS SET TO .001 FOR THE RESULTS YOU TURN IN.\n",
    "\n",
    "# You may also find it useful to have a variable for alpha * n_feature_values\n",
    "    \n",
    "def get_feature_given_class(feature_type):\n",
    "    \"\"\"\n",
    "    feature_type: string in {\"beg_phonological\", \"semantic\"}\n",
    "    \n",
    "    Return a np.array of shape (n_feature_values, n_classes), where each index is the conditional\n",
    "    probability of a feature value of feature_type given one of the four noun classes.\n",
    "    Make sure that the rows of the returned np.array correspond to the feature values in the order \n",
    "    specified by the values of the constants defined in data.py (e.g. SEMANTIC_ANIMATE is set to 0, \n",
    "    so it should be the 0th row).\n",
    "    Similarly, make sure that the four classes correspond to the four columns.\n",
    "    \"\"\"\n",
    "        \n",
    "    if feature_type == 'semantic':\n",
    "        shape = (len(SEMANTIC_TAGS), len(noun_class_probabilities))\n",
    "        matrix = np.zeros(shape)\n",
    "        feature_alpha = alpha * len(class_features_joint['semantic'])\n",
    "\n",
    "        for index_1 in range(len(class_features_joint['semantic'])):\n",
    "            for index_2 in range(len(noun_class_probabilities)):\n",
    "                matrix[index_1, index_2] = class_features_joint['semantic'][index_1][index_2] / noun_class_probabilities[index_2]\n",
    "    \n",
    "    elif feature_type == 'beg_phonological':\n",
    "        shape = (len(BEG_PHON_TAGS), len(noun_class_probabilities))\n",
    "        matrix = np.zeros(shape)\n",
    "        \n",
    "        for index_1 in range(len(class_features_joint['beg_phonological'])):\n",
    "            for index_2 in range(len(noun_class_probabilities)):\n",
    "                matrix[index_1, index_2] = class_features_joint['beg_phonological'][index_1][index_2] / noun_class_probabilities[index_2]\n",
    "        \n",
    "    return matrix\n",
    "\n",
    "\n",
    "\n",
    "print(get_feature_given_class('semantic'))\n",
    "\n"
   ]
  },
  {
   "cell_type": "markdown",
   "metadata": {},
   "source": [
    "### (b)\n",
    "\n",
    "In the paper, Gagliardi et al. first present a Naive Bayes classifier as a baseline comparison to how children are classifying nouns in Tsez. Here, we will refer to this classifier as M0. Write a function `compute_trial_results_M0` that computes the results for each trial using equation (1) from the paper.\n",
    "\n",
    "Call `compute_trial_results_M0` and print the result."
   ]
  },
  {
   "cell_type": "code",
   "execution_count": 64,
   "metadata": {},
   "outputs": [
    {
     "name": "stdout",
     "output_type": "stream",
     "text": [
      "[[0.         0.09183568 0.65509509 0.25306923]\n",
      " [0.         0.03164632 0.38799746 0.58035622]\n",
      " [0.         0.18427141 0.50170023 0.31402836]\n",
      " [1.         0.         0.         0.        ]\n",
      " [0.         1.         0.         0.        ]\n",
      " [0.         0.         1.         0.        ]\n",
      " [1.         0.         0.         0.        ]\n",
      " [0.         1.         0.         0.        ]\n",
      " [0.         0.         1.         0.        ]\n",
      " [0.         0.         1.         0.        ]\n",
      " [0.         0.18427141 0.50170023 0.31402836]]\n"
     ]
    }
   ],
   "source": [
    "from data import features_by_trial\n",
    "\n",
    "\n",
    "def compute_trial_results_M0():\n",
    "    \"\"\"\n",
    "    Return a np.array of shape (n_trials, n_classes), where each row corresponds to\n",
    "    a trial and each column corresponds to one of the four noun classes. The rows\n",
    "    should be a probability distribution over the four noun classes for each trial\n",
    "    using a Naive Bayes Classifier that looks at phonological and semantic features\n",
    "    (using formula (1) from Gagliardi et al.).\n",
    "    \n",
    "    i.e find p(c|f_1, f_2, ..., f_n)\n",
    "    \"\"\"\n",
    "    \n",
    "    trial_results = []\n",
    "    \n",
    "    phonological = get_feature_given_class('beg_phonological').tolist()\n",
    "    \n",
    "    semantic = get_feature_given_class('semantic').tolist()\n",
    "   \n",
    "    n_trials = (len(features_by_trial['beg_phonological']))\n",
    "    n_classes = len(noun_class_probabilities)\n",
    "                    \n",
    "    for i in range(n_trials):\n",
    "        semantic_trial = features_by_trial['semantic'][i]\n",
    "        phonological_trial = features_by_trial['beg_phonological'][i]\n",
    "        \n",
    "        probabilities = []\n",
    "        denominator = 0\n",
    "        \n",
    "        for class_trial in range(n_classes):\n",
    "            phonological_prob = phonological[phonological_trial][class_trial]\n",
    "            semantic_prob = semantic[semantic_trial][class_trial]\n",
    "            \n",
    "            probability = semantic_prob * phonological_prob * noun_class_probabilities[class_trial]\n",
    "            \n",
    "            denominator += probability\n",
    "            probabilities.append(probability)\n",
    "            \n",
    "        for class_trial in range(n_classes):\n",
    "            probabilities[class_trial] /= denominator\n",
    "        \n",
    "        trial_results.append(probabilities)\n",
    "    trial_results = np.array(trial_results)\n",
    "        \n",
    "    return trial_results\n",
    "\n",
    "M0_results = compute_trial_results_M0()\n",
    "print(M0_results)"
   ]
  },
  {
   "cell_type": "markdown",
   "metadata": {},
   "source": [
    "### (c)\n",
    "\n",
    "The code for graphing `kid_answers` is provided and is called below. In a similar way, graph `M0_results` found in part b above for the feature combination of semantic female and beg phonological *r*. How do the two graphs compare? Is this what you would expect based on the results found in the paper?  (Your answer should be no longer than 100 words.)"
   ]
  },
  {
   "cell_type": "code",
   "execution_count": 66,
   "metadata": {},
   "outputs": [
    {
     "data": {
      "image/png": "[encoded data removed]",
      "text/plain": [
       "<matplotlib.figure.Figure at 0x10f3994a8>"
      ]
     },
     "metadata": {},
     "output_type": "display_data"
    }
   ],
   "source": [
    "from data import kid_answers, SEMANTIC_FEMALE, BEG_PHON_R\n",
    "from provided_functions import visualise_results\n",
    "\n",
    "visualise_results(kid_answers, semantic_filter=[SEMANTIC_FEMALE], beg_phonological_filter=[BEG_PHON_R],\n",
    "                  title=\"Kid Answers\")"
   ]
  },
  {
   "cell_type": "code",
   "execution_count": 68,
   "metadata": {},
   "outputs": [
    {
     "data": {
      "image/png": "[encoded data removed]",
      "text/plain": [
       "<matplotlib.figure.Figure at 0x1115a7828>"
      ]
     },
     "metadata": {},
     "output_type": "display_data"
    }
   ],
   "source": [
    "from data import kid_answers, SEMANTIC_FEMALE, BEG_PHON_R\n",
    "from provided_functions import visualise_results\n",
    "\n",
    "\n",
    "visualise_results(compute_trial_results_M0(), semantic_filter=[SEMANTIC_FEMALE], beg_phonological_filter=[BEG_PHON_R],\n",
    "                  title=\"Trial Results M0\")"
   ]
  },
  {
   "cell_type": "markdown",
   "metadata": {},
   "source": [
    "The two graphs differe a lot. The \"Trial Results M0\" graph has all of its probabilities focused around the 'c2' noun class, whereas the 'Kid Results' graph has all has its probabilities more evenly distributed among the different classes, with a small majority on 'c2' and 'c4'.\n",
    "\n",
    "This is a promising results, the paper has most of the probability at 'c2' and very little distributed among the other classes."
   ]
  },
  {
   "cell_type": "markdown",
   "metadata": {},
   "source": [
    "### (d)\n",
    "\n",
    "Model 3 in the paper investigated the Phonological Preference Hypothesis. Implement M3 according to the function definitions below, which implement equation (4) from Gagliardi et al. (Note: it will probably be easiest to modify your code from part b.)\n",
    "\n",
    "Call `compute_trial_results_M3` with a beta of 0.65 (the best results from the paper) and print the result."
   ]
  },
  {
   "cell_type": "code",
   "execution_count": 76,
   "metadata": {},
   "outputs": [
    {
     "name": "stdout",
     "output_type": "stream",
     "text": [
      "[[0.04839161 0.09550714 0.63194093 0.22416032]\n",
      " [0.01197305 0.03546372 0.40215915 0.55040407]\n",
      " [0.03409056 0.1941964  0.49017211 0.28154093]\n",
      " [0.38409056 0.1297014  0.31457703 0.17163101]\n",
      " [0.03409056 0.4797014  0.31457703 0.17163101]\n",
      " [0.03409056 0.1297014  0.66457703 0.17163101]\n",
      " [0.39839161 0.06336465 0.40265765 0.13558609]\n",
      " [0.01197305 0.37438751 0.26636004 0.34727939]\n",
      " [0.01197305 0.02438751 0.61636004 0.34727939]\n",
      " [0.03409056 0.1297014  0.66457703 0.17163101]\n",
      " [0.03409056 0.1941964  0.49017211 0.28154093]]\n"
     ]
    }
   ],
   "source": [
    "from data import features_by_trial, noun_class_probabilities, SEMANTIC_OTHER\n",
    "\n",
    "\n",
    "def compute_trial_results_phon_only():\n",
    "    \"\"\"\n",
    "    Return an np.array of shape (n_trials, n_classes), where each row corresponds to\n",
    "    a trial and each column corresponds to one of the four noun classes. The rows\n",
    "    should be a probability distribution over the four noun classes for each trial\n",
    "    using a Naive Bayes Classifier that looks at only phonological features\n",
    "    (this computes the second term from formula (4) from Gagliardi et al.).\n",
    "    \"\"\"\n",
    "    trial_results = []\n",
    "    \n",
    "    phonological = get_feature_given_class('beg_phonological').tolist()\n",
    "       \n",
    "    n_trials = (len(features_by_trial['beg_phonological']))\n",
    "    n_classes = len(noun_class_probabilities)\n",
    "                    \n",
    "    for i in range(n_trials):\n",
    "        phonological_trial = features_by_trial['beg_phonological'][i]\n",
    "        \n",
    "        probabilities = []\n",
    "        denominator = 0\n",
    "        \n",
    "        for class_trial in range(n_classes):\n",
    "            phonological_prob = phonological[phonological_trial][class_trial]\n",
    "            \n",
    "            probability = phonological_prob * noun_class_probabilities[class_trial]\n",
    "            \n",
    "            denominator += probability\n",
    "            probabilities.append(probability)\n",
    "            \n",
    "        for class_trial in range(n_classes):\n",
    "            probabilities[class_trial] /= denominator\n",
    "        \n",
    "        trial_results.append(probabilities)\n",
    "    trial_results = np.array(trial_results)\n",
    "        \n",
    "    return trial_results\n",
    "\n",
    "\n",
    "def compute_trial_results_M3(beta):\n",
    "    \"\"\"\n",
    "    Return an np.array of shape (n_trials, n_classes), where each row corresponds to\n",
    "    a trial and each column corresponds to one of the four noun classes. The rows\n",
    "    should be a probability distribution over the four noun classes.\n",
    "    \n",
    "    The results should implement equation (4) from Gagliardi et al., using the beta\n",
    "    parameter passed into the function.\n",
    "    \n",
    "    Hint: M3 is a mixture model, which you can implement as weighing the results of \n",
    "    two different models.\n",
    "    \"\"\"\n",
    "    \n",
    "    trial_results_M0 = (1 - beta) * compute_trial_results_M0()\n",
    "    phon_trial_results = (beta) * compute_trial_results_phon_only()\n",
    "    \n",
    "    return(trial_results_M0 + phon_trial_results)\n",
    "\n",
    "\n",
    "M3_results = compute_trial_results_M3(0.65)\n",
    "print(M3_results)"
   ]
  },
  {
   "cell_type": "markdown",
   "metadata": {},
   "source": [
    "### (e)\n",
    "\n",
    "Graph the results from M3 (using `visualise_results`) for the feature combination of semantic female and phonological initial *r*.\n",
    "\n",
    "Is this a better fit than M0? Briefly explain what this comparison suggests about the way that children process noun classes in Tsez.  (Your answer should be no longer than 100 words.)"
   ]
  },
  {
   "cell_type": "code",
   "execution_count": 80,
   "metadata": {},
   "outputs": [
    {
     "data": {
      "image/png": "[encoded data removed]",
      "text/plain": [
       "<matplotlib.figure.Figure at 0x111799ac8>"
      ]
     },
     "metadata": {},
     "output_type": "display_data"
    }
   ],
   "source": [
    "from data import kid_answers, SEMANTIC_FEMALE, BEG_PHON_R\n",
    "from provided_functions import visualise_results\n",
    "\n",
    "\n",
    "visualise_results(compute_trial_results_M3(0.65), semantic_filter=[SEMANTIC_FEMALE], beg_phonological_filter=[BEG_PHON_R],\n",
    "                  title=\"Trial Results M3\")"
   ]
  },
  {
   "cell_type": "markdown",
   "metadata": {},
   "source": [
    "These results are very promising, they fit the actual data generated from children very closely. Compared the the graph 'Trial Results M0' which has all the probability focused on noun class 'c2', this is distributed mostly amoung 'c2', 'c3', and 'c4'.\n",
    "\n",
    "This suggests that children rely more on phonological features than they do on semantic features. These results are promising, but there is no empricical reason to choose $\\beta = 0.65$, and the model is very sensitive to that value."
   ]
  },
  {
   "cell_type": "markdown",
   "metadata": {},
   "source": [
    "### (f)\n",
    "\n",
    "Below, we've graphed the results for `young_kid_answers`, `older_kid_answers`, and `adult_answers`, for the combination of semantic female and phonological initial *r*."
   ]
  },
  {
   "cell_type": "code",
   "execution_count": 8,
   "metadata": {},
   "outputs": [
    {
     "data": {
      "image/png": "[encoded data removed]",
      "text/plain": [
       "<matplotlib.figure.Figure at 0x7f8cf55af550>"
      ]
     },
     "metadata": {},
     "output_type": "display_data"
    },
    {
     "data": {
      "image/png": "[encoded data removed]",
      "text/plain": [
       "<matplotlib.figure.Figure at 0x7f8cf55af6a0>"
      ]
     },
     "metadata": {},
     "output_type": "display_data"
    },
    {
     "data": {
      "image/png": "[encoded data removed]",
      "text/plain": [
       "<matplotlib.figure.Figure at 0x7f8cf5547ef0>"
      ]
     },
     "metadata": {},
     "output_type": "display_data"
    }
   ],
   "source": [
    "from data import young_kid_answers, older_kid_answers, adult_answers, SEMANTIC_FEMALE, BEG_PHON_R\n",
    "from provided_functions import visualise_results\n",
    "\n",
    "visualise_results(young_kid_answers, semantic_filter=[SEMANTIC_FEMALE], beg_phonological_filter=[BEG_PHON_R],\n",
    "                  title=\"Young Kid Answers\")\n",
    "visualise_results(older_kid_answers, semantic_filter=[SEMANTIC_FEMALE], beg_phonological_filter=[BEG_PHON_R],\n",
    "                  title=\"Older Kid Answers\")\n",
    "visualise_results(adult_answers, semantic_filter=[SEMANTIC_FEMALE], beg_phonological_filter=[BEG_PHON_R],\n",
    "                  title=\"Adult Answers\")"
   ]
  },
  {
   "cell_type": "markdown",
   "metadata": {},
   "source": [
    "### (f, continued)\n",
    "\n",
    "Complete the function `compute_optimal_M3_parameters` below to find the optimal parameter values for M3. \n",
    "\n",
    "Call `compute_optimal_M3_parameters` and print the optimal parameter values for each of `young_kid_answers`, `older_kid_answers`, and `adult_answers`."
   ]
  },
  {
   "cell_type": "code",
   "execution_count": 92,
   "metadata": {},
   "outputs": [
    {
     "name": "stdout",
     "output_type": "stream",
     "text": [
      "Optimal for young_kid_answers: 0.7300\n",
      "Optimal for older_kid_answers: 0.5100\n",
      "Optimal for adult_answers: 0.5600\n"
     ]
    }
   ],
   "source": [
    "import numpy as np\n",
    "from data import adult_answers, young_kid_answers, older_kid_answers\n",
    "from provided_functions import sum_squared_error\n",
    "\n",
    "\n",
    "def compute_optimal_M3_parameters(gold_standard):\n",
    "    \"\"\"\n",
    "    gold_standard: np.array of shape (n_trials, n_classes) representing the trial answers\n",
    "        from humans (this could be kid_answers, adult_answers, etc).\n",
    "\n",
    "    Use a brute force approach to find the best parameters for M3 to fit the gold_standard.\n",
    "    You should try all values from 0 to 1 (inclusive) by increments of 0.01 (i.e.\n",
    "    [0, 0.01, 0.02, ... 1.00]).\n",
    "    Find the M3 results using compute_trial_results_M3 from part d.\n",
    "    Compute error between the model and gold_standard results using the sum_squared_error\n",
    "    function in provided_functions.py.\n",
    "    \"\"\"\n",
    "    \n",
    "    optimal_parameter = None\n",
    "    min_error = None\n",
    "    \n",
    "    parameters = np.arange(0,1.01,0.01)\n",
    "    \n",
    "    for beta in parameters:\n",
    "        M3_trial = compute_trial_results_M3(beta)\n",
    "        error = sum_squared_error(M3_trial, gold_standard)\n",
    "\n",
    "        if (min_error is None) or (error < min_error):\n",
    "            optimal_parameter = beta\n",
    "            min_error = error\n",
    "    \n",
    "    return optimal_parameter\n",
    "\n",
    "print(\"Optimal for young_kid_answers: {:.4f}\".format(compute_optimal_M3_parameters(gold_standard=young_kid_answers)))\n",
    "print(\"Optimal for older_kid_answers: {:.4f}\".format(compute_optimal_M3_parameters(gold_standard=older_kid_answers)))\n",
    "print(\"Optimal for adult_answers: {:.4f}\".format(compute_optimal_M3_parameters(gold_standard=adult_answers)))"
   ]
  },
  {
   "cell_type": "markdown",
   "metadata": {},
   "source": [
    "### (g)\n",
    "\n",
    "Consider the various optimal parameter settings you found in part f, along with the three graphs of the human data we provided.\n",
    "\n",
    "**1.** Do the optimal parameter settings you found fit your expectations given the developmental pattern of the human data?  Briefly explain why or why not.  (Your answer should be no longer than 100 words.)\n",
    "\n",
    "**2.** What do the parameter settings and data suggest about the process of learning in children?  Relate what you found to ideas in the readings and discussed in class.  (Your answer should be no longer than 100 words.)  \n",
    "\n"
   ]
  },
  {
   "cell_type": "markdown",
   "metadata": {},
   "source": [
    "My expectation was that the older you get, the less you depend on phonological features. These results confirm this thesis for young kids (0.73 vs 0.51 vs 0.56), but go against my thesis for older kids and adults; older kids focus more semantics than adults (0.51 vs 0.56).\n",
    "\n",
    "The parameter setting and data suggest that young children rely more on phonological features. My thesis is that this is because they are operating on a less developed semantic network which is not as reliable as an adult semantic network.\n",
    "\n",
    "My thesis for why older kids rely more on semantic features than adults is because of U-shaped development, as they learn the utility of semantic features, they over-generalize this concept, i.e they rely too much on semantic featrues. As time progresses, they converge to a more reliable reliance.\n"
   ]
  },
  {
   "cell_type": "code",
   "execution_count": null,
   "metadata": {},
   "outputs": [],
   "source": []
  }
 ],
 "metadata": {
  "kernelspec": {
   "display_name": "Python 3",
   "language": "python",
   "name": "python3"
  },
  "language_info": {
   "codemirror_mode": {
    "name": "ipython",
    "version": 3
   },
   "file_extension": ".py",
   "mimetype": "text/x-python",
   "name": "python",
   "nbconvert_exporter": "python",
   "pygments_lexer": "ipython3",
   "version": "3.6.4"
  }
 },
 "nbformat": 4,
 "nbformat_minor": 2
}
